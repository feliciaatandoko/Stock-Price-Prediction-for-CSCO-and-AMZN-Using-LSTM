{
 "cells": [
  {
   "cell_type": "markdown",
   "metadata": {
    "id": "MeE4LiR5OTfa"
   },
   "source": [
    "# Stock Price Prediction for CSCO and AMZN Using LSTM"
   ]
  },
  {
   "cell_type": "markdown",
   "metadata": {},
   "source": [
    "### Penulis: Felicia Andrea Tandoko"
   ]
  },
  {
   "cell_type": "markdown",
   "metadata": {},
   "source": [
    "Project ini bertujuan untuk memprediksi harga penutupan saham harian dari dua perusahaan teknologi besar, Cisco Systems (CSCO) dan Amazon.com (AMZN), menggunakan model Long Short-Term Memory (LSTM). Dataset yang digunakan merupakan data historis harga saham harian yang diambil dari Yahoo Finance melalui paket Python “yfinance” hingga 1 April 2020.\n",
    "\n",
    "Dataset ini mencakup informasi penting seperti harga pembukaan (Open), harga tertinggi (High), harga terendah (Low), harga penutupan (Close), harga penutupan yang disesuaikan (Adj Close), dan volume perdagangan harian (Volume). Namun, dalam proyek ini, fokusnya hanya pada kolom Date dan Close untuk membangun model prediksi."
   ]
  },
  {
   "cell_type": "markdown",
   "metadata": {
    "id": "8uI5raHhOPQq"
   },
   "source": [
    "## **IMPORTING LIBRARIES**"
   ]
  },
  {
   "cell_type": "code",
   "execution_count": 1,
   "metadata": {
    "id": "I2w-JZOXMw_k"
   },
   "outputs": [],
   "source": [
    "import pandas as pd\n",
    "import numpy as np\n",
    "import matplotlib.pyplot as plt\n",
    "from sklearn.preprocessing import MinMaxScaler\n",
    "from tensorflow.keras.models import Sequential\n",
    "from tensorflow.keras.layers import LSTM, Dense\n",
    "from tensorflow.keras.callbacks import EarlyStopping\n",
    "\n",
    "import warnings\n",
    "warnings.filterwarnings('ignore')"
   ]
  },
  {
   "cell_type": "markdown",
   "metadata": {
    "id": "-pa1vHWEO4o8"
   },
   "source": [
    "## **READ AND EXPLORE DATA**"
   ]
  },
  {
   "cell_type": "code",
   "execution_count": 2,
   "metadata": {
    "id": "_Ms7aFsoORWQ"
   },
   "outputs": [],
   "source": [
    "amzn = pd.read_csv('AMZN.csv')\n",
    "csco = pd.read_csv('CSCO.csv')"
   ]
  },
  {
   "cell_type": "code",
   "execution_count": 3,
   "metadata": {
    "colab": {
     "base_uri": "https://localhost:8080/",
     "height": 206
    },
    "id": "DMmIMD7yPB8W",
    "outputId": "7f9b582d-7ead-4b5c-e774-5f35470c3daf"
   },
   "outputs": [
    {
     "data": {
      "application/vnd.google.colaboratory.intrinsic+json": {
       "summary": "{\n  \"name\": \"amzn\",\n  \"rows\": 5758,\n  \"fields\": [\n    {\n      \"column\": \"Date\",\n      \"properties\": {\n        \"dtype\": \"object\",\n        \"num_unique_values\": 5758,\n        \"samples\": [\n          \"2009-12-08\",\n          \"2015-10-06\",\n          \"2011-08-19\"\n        ],\n        \"semantic_type\": \"\",\n        \"description\": \"\"\n      }\n    },\n    {\n      \"column\": \"Open\",\n      \"properties\": {\n        \"dtype\": \"number\",\n        \"std\": 523.3653744678122,\n        \"min\": 1.40625,\n        \"max\": 2173.070068359375,\n        \"num_unique_values\": 5070,\n        \"samples\": [\n          60.959999084472656,\n          35.95000076293945,\n          268.5400085449219\n        ],\n        \"semantic_type\": \"\",\n        \"description\": \"\"\n      }\n    },\n    {\n      \"column\": \"High\",\n      \"properties\": {\n        \"dtype\": \"number\",\n        \"std\": 528.1385562346728,\n        \"min\": 1.4479166269302368,\n        \"max\": 2185.949951171875,\n        \"num_unique_values\": 5014,\n        \"samples\": [\n          1800.800048828125,\n          16.360000610351562,\n          235.94000244140625\n        ],\n        \"semantic_type\": \"\",\n        \"description\": \"\"\n      }\n    },\n    {\n      \"column\": \"Low\",\n      \"properties\": {\n        \"dtype\": \"number\",\n        \"std\": 517.7269712863316,\n        \"min\": 1.3125,\n        \"max\": 2161.1201171875,\n        \"num_unique_values\": 5019,\n        \"samples\": [\n          125.51000213623048,\n          177.5,\n          932.8900146484376\n        ],\n        \"semantic_type\": \"\",\n        \"description\": \"\"\n      }\n    },\n    {\n      \"column\": \"Close\",\n      \"properties\": {\n        \"dtype\": \"number\",\n        \"std\": 523.1402068936934,\n        \"min\": 1.3958333730697632,\n        \"max\": 2170.219970703125,\n        \"num_unique_values\": 5148,\n        \"samples\": [\n          19.25,\n          265.0,\n          16.290000915527344\n        ],\n        \"semantic_type\": \"\",\n        \"description\": \"\"\n      }\n    },\n    {\n      \"column\": \"Adj Close\",\n      \"properties\": {\n        \"dtype\": \"number\",\n        \"std\": 523.1402068936934,\n        \"min\": 1.3958333730697632,\n        \"max\": 2170.219970703125,\n        \"num_unique_values\": 5148,\n        \"samples\": [\n          19.25,\n          265.0,\n          16.290000915527344\n        ],\n        \"semantic_type\": \"\",\n        \"description\": \"\"\n      }\n    },\n    {\n      \"column\": \"Volume\",\n      \"properties\": {\n        \"dtype\": \"number\",\n        \"std\": 7325903,\n        \"min\": 487200,\n        \"max\": 104329200,\n        \"num_unique_values\": 5615,\n        \"samples\": [\n          2679500,\n          2829200,\n          3333600\n        ],\n        \"semantic_type\": \"\",\n        \"description\": \"\"\n      }\n    }\n  ]\n}",
       "type": "dataframe",
       "variable_name": "amzn"
      },
      "text/html": [
       "\n",
       "  <div id=\"df-d83cf541-81d4-431d-84eb-27357bec34fd\" class=\"colab-df-container\">\n",
       "    <div>\n",
       "<style scoped>\n",
       "    .dataframe tbody tr th:only-of-type {\n",
       "        vertical-align: middle;\n",
       "    }\n",
       "\n",
       "    .dataframe tbody tr th {\n",
       "        vertical-align: top;\n",
       "    }\n",
       "\n",
       "    .dataframe thead th {\n",
       "        text-align: right;\n",
       "    }\n",
       "</style>\n",
       "<table border=\"1\" class=\"dataframe\">\n",
       "  <thead>\n",
       "    <tr style=\"text-align: right;\">\n",
       "      <th></th>\n",
       "      <th>Date</th>\n",
       "      <th>Open</th>\n",
       "      <th>High</th>\n",
       "      <th>Low</th>\n",
       "      <th>Close</th>\n",
       "      <th>Adj Close</th>\n",
       "      <th>Volume</th>\n",
       "    </tr>\n",
       "  </thead>\n",
       "  <tbody>\n",
       "    <tr>\n",
       "      <th>0</th>\n",
       "      <td>1997-05-15</td>\n",
       "      <td>2.437500</td>\n",
       "      <td>2.500000</td>\n",
       "      <td>1.927083</td>\n",
       "      <td>1.958333</td>\n",
       "      <td>1.958333</td>\n",
       "      <td>72156000</td>\n",
       "    </tr>\n",
       "    <tr>\n",
       "      <th>1</th>\n",
       "      <td>1997-05-16</td>\n",
       "      <td>1.968750</td>\n",
       "      <td>1.979167</td>\n",
       "      <td>1.708333</td>\n",
       "      <td>1.729167</td>\n",
       "      <td>1.729167</td>\n",
       "      <td>14700000</td>\n",
       "    </tr>\n",
       "    <tr>\n",
       "      <th>2</th>\n",
       "      <td>1997-05-19</td>\n",
       "      <td>1.760417</td>\n",
       "      <td>1.770833</td>\n",
       "      <td>1.625000</td>\n",
       "      <td>1.708333</td>\n",
       "      <td>1.708333</td>\n",
       "      <td>6106800</td>\n",
       "    </tr>\n",
       "    <tr>\n",
       "      <th>3</th>\n",
       "      <td>1997-05-20</td>\n",
       "      <td>1.729167</td>\n",
       "      <td>1.750000</td>\n",
       "      <td>1.635417</td>\n",
       "      <td>1.635417</td>\n",
       "      <td>1.635417</td>\n",
       "      <td>5467200</td>\n",
       "    </tr>\n",
       "    <tr>\n",
       "      <th>4</th>\n",
       "      <td>1997-05-21</td>\n",
       "      <td>1.635417</td>\n",
       "      <td>1.645833</td>\n",
       "      <td>1.375000</td>\n",
       "      <td>1.427083</td>\n",
       "      <td>1.427083</td>\n",
       "      <td>18853200</td>\n",
       "    </tr>\n",
       "  </tbody>\n",
       "</table>\n",
       "</div>\n",
       "    <div class=\"colab-df-buttons\">\n",
       "\n",
       "  <div class=\"colab-df-container\">\n",
       "    <button class=\"colab-df-convert\" onclick=\"convertToInteractive('df-d83cf541-81d4-431d-84eb-27357bec34fd')\"\n",
       "            title=\"Convert this dataframe to an interactive table.\"\n",
       "            style=\"display:none;\">\n",
       "\n",
       "  <svg xmlns=\"http://www.w3.org/2000/svg\" height=\"24px\" viewBox=\"0 -960 960 960\">\n",
       "    <path d=\"M120-120v-720h720v720H120Zm60-500h600v-160H180v160Zm220 220h160v-160H400v160Zm0 220h160v-160H400v160ZM180-400h160v-160H180v160Zm440 0h160v-160H620v160ZM180-180h160v-160H180v160Zm440 0h160v-160H620v160Z\"/>\n",
       "  </svg>\n",
       "    </button>\n",
       "\n",
       "  <style>\n",
       "    .colab-df-container {\n",
       "      display:flex;\n",
       "      gap: 12px;\n",
       "    }\n",
       "\n",
       "    .colab-df-convert {\n",
       "      background-color: #E8F0FE;\n",
       "      border: none;\n",
       "      border-radius: 50%;\n",
       "      cursor: pointer;\n",
       "      display: none;\n",
       "      fill: #1967D2;\n",
       "      height: 32px;\n",
       "      padding: 0 0 0 0;\n",
       "      width: 32px;\n",
       "    }\n",
       "\n",
       "    .colab-df-convert:hover {\n",
       "      background-color: #E2EBFA;\n",
       "      box-shadow: 0px 1px 2px rgba(60, 64, 67, 0.3), 0px 1px 3px 1px rgba(60, 64, 67, 0.15);\n",
       "      fill: #174EA6;\n",
       "    }\n",
       "\n",
       "    .colab-df-buttons div {\n",
       "      margin-bottom: 4px;\n",
       "    }\n",
       "\n",
       "    [theme=dark] .colab-df-convert {\n",
       "      background-color: #3B4455;\n",
       "      fill: #D2E3FC;\n",
       "    }\n",
       "\n",
       "    [theme=dark] .colab-df-convert:hover {\n",
       "      background-color: #434B5C;\n",
       "      box-shadow: 0px 1px 3px 1px rgba(0, 0, 0, 0.15);\n",
       "      filter: drop-shadow(0px 1px 2px rgba(0, 0, 0, 0.3));\n",
       "      fill: #FFFFFF;\n",
       "    }\n",
       "  </style>\n",
       "\n",
       "    <script>\n",
       "      const buttonEl =\n",
       "        document.querySelector('#df-d83cf541-81d4-431d-84eb-27357bec34fd button.colab-df-convert');\n",
       "      buttonEl.style.display =\n",
       "        google.colab.kernel.accessAllowed ? 'block' : 'none';\n",
       "\n",
       "      async function convertToInteractive(key) {\n",
       "        const element = document.querySelector('#df-d83cf541-81d4-431d-84eb-27357bec34fd');\n",
       "        const dataTable =\n",
       "          await google.colab.kernel.invokeFunction('convertToInteractive',\n",
       "                                                    [key], {});\n",
       "        if (!dataTable) return;\n",
       "\n",
       "        const docLinkHtml = 'Like what you see? Visit the ' +\n",
       "          '<a target=\"_blank\" href=https://colab.research.google.com/notebooks/data_table.ipynb>data table notebook</a>'\n",
       "          + ' to learn more about interactive tables.';\n",
       "        element.innerHTML = '';\n",
       "        dataTable['output_type'] = 'display_data';\n",
       "        await google.colab.output.renderOutput(dataTable, element);\n",
       "        const docLink = document.createElement('div');\n",
       "        docLink.innerHTML = docLinkHtml;\n",
       "        element.appendChild(docLink);\n",
       "      }\n",
       "    </script>\n",
       "  </div>\n",
       "\n",
       "\n",
       "<div id=\"df-b8fd0068-9a0e-412b-912b-18a201ca55ed\">\n",
       "  <button class=\"colab-df-quickchart\" onclick=\"quickchart('df-b8fd0068-9a0e-412b-912b-18a201ca55ed')\"\n",
       "            title=\"Suggest charts\"\n",
       "            style=\"display:none;\">\n",
       "\n",
       "<svg xmlns=\"http://www.w3.org/2000/svg\" height=\"24px\"viewBox=\"0 0 24 24\"\n",
       "     width=\"24px\">\n",
       "    <g>\n",
       "        <path d=\"M19 3H5c-1.1 0-2 .9-2 2v14c0 1.1.9 2 2 2h14c1.1 0 2-.9 2-2V5c0-1.1-.9-2-2-2zM9 17H7v-7h2v7zm4 0h-2V7h2v10zm4 0h-2v-4h2v4z\"/>\n",
       "    </g>\n",
       "</svg>\n",
       "  </button>\n",
       "\n",
       "<style>\n",
       "  .colab-df-quickchart {\n",
       "      --bg-color: #E8F0FE;\n",
       "      --fill-color: #1967D2;\n",
       "      --hover-bg-color: #E2EBFA;\n",
       "      --hover-fill-color: #174EA6;\n",
       "      --disabled-fill-color: #AAA;\n",
       "      --disabled-bg-color: #DDD;\n",
       "  }\n",
       "\n",
       "  [theme=dark] .colab-df-quickchart {\n",
       "      --bg-color: #3B4455;\n",
       "      --fill-color: #D2E3FC;\n",
       "      --hover-bg-color: #434B5C;\n",
       "      --hover-fill-color: #FFFFFF;\n",
       "      --disabled-bg-color: #3B4455;\n",
       "      --disabled-fill-color: #666;\n",
       "  }\n",
       "\n",
       "  .colab-df-quickchart {\n",
       "    background-color: var(--bg-color);\n",
       "    border: none;\n",
       "    border-radius: 50%;\n",
       "    cursor: pointer;\n",
       "    display: none;\n",
       "    fill: var(--fill-color);\n",
       "    height: 32px;\n",
       "    padding: 0;\n",
       "    width: 32px;\n",
       "  }\n",
       "\n",
       "  .colab-df-quickchart:hover {\n",
       "    background-color: var(--hover-bg-color);\n",
       "    box-shadow: 0 1px 2px rgba(60, 64, 67, 0.3), 0 1px 3px 1px rgba(60, 64, 67, 0.15);\n",
       "    fill: var(--button-hover-fill-color);\n",
       "  }\n",
       "\n",
       "  .colab-df-quickchart-complete:disabled,\n",
       "  .colab-df-quickchart-complete:disabled:hover {\n",
       "    background-color: var(--disabled-bg-color);\n",
       "    fill: var(--disabled-fill-color);\n",
       "    box-shadow: none;\n",
       "  }\n",
       "\n",
       "  .colab-df-spinner {\n",
       "    border: 2px solid var(--fill-color);\n",
       "    border-color: transparent;\n",
       "    border-bottom-color: var(--fill-color);\n",
       "    animation:\n",
       "      spin 1s steps(1) infinite;\n",
       "  }\n",
       "\n",
       "  @keyframes spin {\n",
       "    0% {\n",
       "      border-color: transparent;\n",
       "      border-bottom-color: var(--fill-color);\n",
       "      border-left-color: var(--fill-color);\n",
       "    }\n",
       "    20% {\n",
       "      border-color: transparent;\n",
       "      border-left-color: var(--fill-color);\n",
       "      border-top-color: var(--fill-color);\n",
       "    }\n",
       "    30% {\n",
       "      border-color: transparent;\n",
       "      border-left-color: var(--fill-color);\n",
       "      border-top-color: var(--fill-color);\n",
       "      border-right-color: var(--fill-color);\n",
       "    }\n",
       "    40% {\n",
       "      border-color: transparent;\n",
       "      border-right-color: var(--fill-color);\n",
       "      border-top-color: var(--fill-color);\n",
       "    }\n",
       "    60% {\n",
       "      border-color: transparent;\n",
       "      border-right-color: var(--fill-color);\n",
       "    }\n",
       "    80% {\n",
       "      border-color: transparent;\n",
       "      border-right-color: var(--fill-color);\n",
       "      border-bottom-color: var(--fill-color);\n",
       "    }\n",
       "    90% {\n",
       "      border-color: transparent;\n",
       "      border-bottom-color: var(--fill-color);\n",
       "    }\n",
       "  }\n",
       "</style>\n",
       "\n",
       "  <script>\n",
       "    async function quickchart(key) {\n",
       "      const quickchartButtonEl =\n",
       "        document.querySelector('#' + key + ' button');\n",
       "      quickchartButtonEl.disabled = true;  // To prevent multiple clicks.\n",
       "      quickchartButtonEl.classList.add('colab-df-spinner');\n",
       "      try {\n",
       "        const charts = await google.colab.kernel.invokeFunction(\n",
       "            'suggestCharts', [key], {});\n",
       "      } catch (error) {\n",
       "        console.error('Error during call to suggestCharts:', error);\n",
       "      }\n",
       "      quickchartButtonEl.classList.remove('colab-df-spinner');\n",
       "      quickchartButtonEl.classList.add('colab-df-quickchart-complete');\n",
       "    }\n",
       "    (() => {\n",
       "      let quickchartButtonEl =\n",
       "        document.querySelector('#df-b8fd0068-9a0e-412b-912b-18a201ca55ed button');\n",
       "      quickchartButtonEl.style.display =\n",
       "        google.colab.kernel.accessAllowed ? 'block' : 'none';\n",
       "    })();\n",
       "  </script>\n",
       "</div>\n",
       "\n",
       "    </div>\n",
       "  </div>\n"
      ],
      "text/plain": [
       "         Date      Open      High       Low     Close  Adj Close    Volume\n",
       "0  1997-05-15  2.437500  2.500000  1.927083  1.958333   1.958333  72156000\n",
       "1  1997-05-16  1.968750  1.979167  1.708333  1.729167   1.729167  14700000\n",
       "2  1997-05-19  1.760417  1.770833  1.625000  1.708333   1.708333   6106800\n",
       "3  1997-05-20  1.729167  1.750000  1.635417  1.635417   1.635417   5467200\n",
       "4  1997-05-21  1.635417  1.645833  1.375000  1.427083   1.427083  18853200"
      ]
     },
     "execution_count": 3,
     "metadata": {},
     "output_type": "execute_result"
    }
   ],
   "source": [
    "amzn.head()"
   ]
  },
  {
   "cell_type": "code",
   "execution_count": 4,
   "metadata": {
    "colab": {
     "base_uri": "https://localhost:8080/",
     "height": 206
    },
    "id": "95z8lmxjPJzR",
    "outputId": "e5c0bb03-0986-4c66-9db9-40092936f0f8"
   },
   "outputs": [
    {
     "data": {
      "application/vnd.google.colaboratory.intrinsic+json": {
       "summary": "{\n  \"name\": \"csco\",\n  \"rows\": 7589,\n  \"fields\": [\n    {\n      \"column\": \"Date\",\n      \"properties\": {\n        \"dtype\": \"object\",\n        \"num_unique_values\": 7589,\n        \"samples\": [\n          \"2010-08-13\",\n          \"2014-07-01\",\n          \"1996-12-31\"\n        ],\n        \"semantic_type\": \"\",\n        \"description\": \"\"\n      }\n    },\n    {\n      \"column\": \"Open\",\n      \"properties\": {\n        \"dtype\": \"number\",\n        \"std\": 14.915391881036596,\n        \"min\": 0.0,\n        \"max\": 81.4375,\n        \"num_unique_values\": 3784,\n        \"samples\": [\n          14.949999809265137,\n          28.780000686645508,\n          25.6875\n        ],\n        \"semantic_type\": \"\",\n        \"description\": \"\"\n      }\n    },\n    {\n      \"column\": \"High\",\n      \"properties\": {\n        \"dtype\": \"number\",\n        \"std\": 15.133190873152726,\n        \"min\": 0.0729166641831398,\n        \"max\": 82.0,\n        \"num_unique_values\": 3784,\n        \"samples\": [\n          31.4375,\n          28.459999084472656,\n          42.9375\n        ],\n        \"semantic_type\": \"\",\n        \"description\": \"\"\n      }\n    },\n    {\n      \"column\": \"Low\",\n      \"properties\": {\n        \"dtype\": \"number\",\n        \"std\": 14.67614924535913,\n        \"min\": 0.0685763880610466,\n        \"max\": 79.0625,\n        \"num_unique_values\": 3777,\n        \"samples\": [\n          43.7599983215332,\n          11.6875,\n          28.780000686645508\n        ],\n        \"semantic_type\": \"\",\n        \"description\": \"\"\n      }\n    },\n    {\n      \"column\": \"Close\",\n      \"properties\": {\n        \"dtype\": \"number\",\n        \"std\": 14.906588838340815,\n        \"min\": 0.0711805522441864,\n        \"max\": 80.0625,\n        \"num_unique_values\": 3943,\n        \"samples\": [\n          47.2599983215332,\n          16.139999389648438,\n          12.229999542236328\n        ],\n        \"semantic_type\": \"\",\n        \"description\": \"\"\n      }\n    },\n    {\n      \"column\": \"Adj Close\",\n      \"properties\": {\n        \"dtype\": \"number\",\n        \"std\": 13.253296941357844,\n        \"min\": 0.0551018938422203,\n        \"max\": 61.977535247802734,\n        \"num_unique_values\": 5022,\n        \"samples\": [\n          38.68153762817383,\n          1.599299073219299,\n          19.03993034362793\n        ],\n        \"semantic_type\": \"\",\n        \"description\": \"\"\n      }\n    },\n    {\n      \"column\": \"Volume\",\n      \"properties\": {\n        \"dtype\": \"number\",\n        \"std\": 41687268,\n        \"min\": 806400,\n        \"max\": 940636800,\n        \"num_unique_values\": 7518,\n        \"samples\": [\n          26070000,\n          27006700,\n          52465900\n        ],\n        \"semantic_type\": \"\",\n        \"description\": \"\"\n      }\n    }\n  ]\n}",
       "type": "dataframe",
       "variable_name": "csco"
      },
      "text/html": [
       "\n",
       "  <div id=\"df-61013989-e444-4e52-b0e7-2292c1e084b2\" class=\"colab-df-container\">\n",
       "    <div>\n",
       "<style scoped>\n",
       "    .dataframe tbody tr th:only-of-type {\n",
       "        vertical-align: middle;\n",
       "    }\n",
       "\n",
       "    .dataframe tbody tr th {\n",
       "        vertical-align: top;\n",
       "    }\n",
       "\n",
       "    .dataframe thead th {\n",
       "        text-align: right;\n",
       "    }\n",
       "</style>\n",
       "<table border=\"1\" class=\"dataframe\">\n",
       "  <thead>\n",
       "    <tr style=\"text-align: right;\">\n",
       "      <th></th>\n",
       "      <th>Date</th>\n",
       "      <th>Open</th>\n",
       "      <th>High</th>\n",
       "      <th>Low</th>\n",
       "      <th>Close</th>\n",
       "      <th>Adj Close</th>\n",
       "      <th>Volume</th>\n",
       "    </tr>\n",
       "  </thead>\n",
       "  <tbody>\n",
       "    <tr>\n",
       "      <th>0</th>\n",
       "      <td>1990-02-16</td>\n",
       "      <td>0.0</td>\n",
       "      <td>0.079861</td>\n",
       "      <td>0.073785</td>\n",
       "      <td>0.077257</td>\n",
       "      <td>0.059806</td>\n",
       "      <td>940636800</td>\n",
       "    </tr>\n",
       "    <tr>\n",
       "      <th>1</th>\n",
       "      <td>1990-02-20</td>\n",
       "      <td>0.0</td>\n",
       "      <td>0.079861</td>\n",
       "      <td>0.074653</td>\n",
       "      <td>0.079861</td>\n",
       "      <td>0.061822</td>\n",
       "      <td>151862400</td>\n",
       "    </tr>\n",
       "    <tr>\n",
       "      <th>2</th>\n",
       "      <td>1990-02-21</td>\n",
       "      <td>0.0</td>\n",
       "      <td>0.078993</td>\n",
       "      <td>0.075521</td>\n",
       "      <td>0.078125</td>\n",
       "      <td>0.060478</td>\n",
       "      <td>70531200</td>\n",
       "    </tr>\n",
       "    <tr>\n",
       "      <th>3</th>\n",
       "      <td>1990-02-22</td>\n",
       "      <td>0.0</td>\n",
       "      <td>0.081597</td>\n",
       "      <td>0.078993</td>\n",
       "      <td>0.078993</td>\n",
       "      <td>0.061150</td>\n",
       "      <td>45216000</td>\n",
       "    </tr>\n",
       "    <tr>\n",
       "      <th>4</th>\n",
       "      <td>1990-02-23</td>\n",
       "      <td>0.0</td>\n",
       "      <td>0.079861</td>\n",
       "      <td>0.078125</td>\n",
       "      <td>0.078559</td>\n",
       "      <td>0.060814</td>\n",
       "      <td>44697600</td>\n",
       "    </tr>\n",
       "  </tbody>\n",
       "</table>\n",
       "</div>\n",
       "    <div class=\"colab-df-buttons\">\n",
       "\n",
       "  <div class=\"colab-df-container\">\n",
       "    <button class=\"colab-df-convert\" onclick=\"convertToInteractive('df-61013989-e444-4e52-b0e7-2292c1e084b2')\"\n",
       "            title=\"Convert this dataframe to an interactive table.\"\n",
       "            style=\"display:none;\">\n",
       "\n",
       "  <svg xmlns=\"http://www.w3.org/2000/svg\" height=\"24px\" viewBox=\"0 -960 960 960\">\n",
       "    <path d=\"M120-120v-720h720v720H120Zm60-500h600v-160H180v160Zm220 220h160v-160H400v160Zm0 220h160v-160H400v160ZM180-400h160v-160H180v160Zm440 0h160v-160H620v160ZM180-180h160v-160H180v160Zm440 0h160v-160H620v160Z\"/>\n",
       "  </svg>\n",
       "    </button>\n",
       "\n",
       "  <style>\n",
       "    .colab-df-container {\n",
       "      display:flex;\n",
       "      gap: 12px;\n",
       "    }\n",
       "\n",
       "    .colab-df-convert {\n",
       "      background-color: #E8F0FE;\n",
       "      border: none;\n",
       "      border-radius: 50%;\n",
       "      cursor: pointer;\n",
       "      display: none;\n",
       "      fill: #1967D2;\n",
       "      height: 32px;\n",
       "      padding: 0 0 0 0;\n",
       "      width: 32px;\n",
       "    }\n",
       "\n",
       "    .colab-df-convert:hover {\n",
       "      background-color: #E2EBFA;\n",
       "      box-shadow: 0px 1px 2px rgba(60, 64, 67, 0.3), 0px 1px 3px 1px rgba(60, 64, 67, 0.15);\n",
       "      fill: #174EA6;\n",
       "    }\n",
       "\n",
       "    .colab-df-buttons div {\n",
       "      margin-bottom: 4px;\n",
       "    }\n",
       "\n",
       "    [theme=dark] .colab-df-convert {\n",
       "      background-color: #3B4455;\n",
       "      fill: #D2E3FC;\n",
       "    }\n",
       "\n",
       "    [theme=dark] .colab-df-convert:hover {\n",
       "      background-color: #434B5C;\n",
       "      box-shadow: 0px 1px 3px 1px rgba(0, 0, 0, 0.15);\n",
       "      filter: drop-shadow(0px 1px 2px rgba(0, 0, 0, 0.3));\n",
       "      fill: #FFFFFF;\n",
       "    }\n",
       "  </style>\n",
       "\n",
       "    <script>\n",
       "      const buttonEl =\n",
       "        document.querySelector('#df-61013989-e444-4e52-b0e7-2292c1e084b2 button.colab-df-convert');\n",
       "      buttonEl.style.display =\n",
       "        google.colab.kernel.accessAllowed ? 'block' : 'none';\n",
       "\n",
       "      async function convertToInteractive(key) {\n",
       "        const element = document.querySelector('#df-61013989-e444-4e52-b0e7-2292c1e084b2');\n",
       "        const dataTable =\n",
       "          await google.colab.kernel.invokeFunction('convertToInteractive',\n",
       "                                                    [key], {});\n",
       "        if (!dataTable) return;\n",
       "\n",
       "        const docLinkHtml = 'Like what you see? Visit the ' +\n",
       "          '<a target=\"_blank\" href=https://colab.research.google.com/notebooks/data_table.ipynb>data table notebook</a>'\n",
       "          + ' to learn more about interactive tables.';\n",
       "        element.innerHTML = '';\n",
       "        dataTable['output_type'] = 'display_data';\n",
       "        await google.colab.output.renderOutput(dataTable, element);\n",
       "        const docLink = document.createElement('div');\n",
       "        docLink.innerHTML = docLinkHtml;\n",
       "        element.appendChild(docLink);\n",
       "      }\n",
       "    </script>\n",
       "  </div>\n",
       "\n",
       "\n",
       "<div id=\"df-8ce62480-c964-4077-bfcf-35dabfa8dc3f\">\n",
       "  <button class=\"colab-df-quickchart\" onclick=\"quickchart('df-8ce62480-c964-4077-bfcf-35dabfa8dc3f')\"\n",
       "            title=\"Suggest charts\"\n",
       "            style=\"display:none;\">\n",
       "\n",
       "<svg xmlns=\"http://www.w3.org/2000/svg\" height=\"24px\"viewBox=\"0 0 24 24\"\n",
       "     width=\"24px\">\n",
       "    <g>\n",
       "        <path d=\"M19 3H5c-1.1 0-2 .9-2 2v14c0 1.1.9 2 2 2h14c1.1 0 2-.9 2-2V5c0-1.1-.9-2-2-2zM9 17H7v-7h2v7zm4 0h-2V7h2v10zm4 0h-2v-4h2v4z\"/>\n",
       "    </g>\n",
       "</svg>\n",
       "  </button>\n",
       "\n",
       "<style>\n",
       "  .colab-df-quickchart {\n",
       "      --bg-color: #E8F0FE;\n",
       "      --fill-color: #1967D2;\n",
       "      --hover-bg-color: #E2EBFA;\n",
       "      --hover-fill-color: #174EA6;\n",
       "      --disabled-fill-color: #AAA;\n",
       "      --disabled-bg-color: #DDD;\n",
       "  }\n",
       "\n",
       "  [theme=dark] .colab-df-quickchart {\n",
       "      --bg-color: #3B4455;\n",
       "      --fill-color: #D2E3FC;\n",
       "      --hover-bg-color: #434B5C;\n",
       "      --hover-fill-color: #FFFFFF;\n",
       "      --disabled-bg-color: #3B4455;\n",
       "      --disabled-fill-color: #666;\n",
       "  }\n",
       "\n",
       "  .colab-df-quickchart {\n",
       "    background-color: var(--bg-color);\n",
       "    border: none;\n",
       "    border-radius: 50%;\n",
       "    cursor: pointer;\n",
       "    display: none;\n",
       "    fill: var(--fill-color);\n",
       "    height: 32px;\n",
       "    padding: 0;\n",
       "    width: 32px;\n",
       "  }\n",
       "\n",
       "  .colab-df-quickchart:hover {\n",
       "    background-color: var(--hover-bg-color);\n",
       "    box-shadow: 0 1px 2px rgba(60, 64, 67, 0.3), 0 1px 3px 1px rgba(60, 64, 67, 0.15);\n",
       "    fill: var(--button-hover-fill-color);\n",
       "  }\n",
       "\n",
       "  .colab-df-quickchart-complete:disabled,\n",
       "  .colab-df-quickchart-complete:disabled:hover {\n",
       "    background-color: var(--disabled-bg-color);\n",
       "    fill: var(--disabled-fill-color);\n",
       "    box-shadow: none;\n",
       "  }\n",
       "\n",
       "  .colab-df-spinner {\n",
       "    border: 2px solid var(--fill-color);\n",
       "    border-color: transparent;\n",
       "    border-bottom-color: var(--fill-color);\n",
       "    animation:\n",
       "      spin 1s steps(1) infinite;\n",
       "  }\n",
       "\n",
       "  @keyframes spin {\n",
       "    0% {\n",
       "      border-color: transparent;\n",
       "      border-bottom-color: var(--fill-color);\n",
       "      border-left-color: var(--fill-color);\n",
       "    }\n",
       "    20% {\n",
       "      border-color: transparent;\n",
       "      border-left-color: var(--fill-color);\n",
       "      border-top-color: var(--fill-color);\n",
       "    }\n",
       "    30% {\n",
       "      border-color: transparent;\n",
       "      border-left-color: var(--fill-color);\n",
       "      border-top-color: var(--fill-color);\n",
       "      border-right-color: var(--fill-color);\n",
       "    }\n",
       "    40% {\n",
       "      border-color: transparent;\n",
       "      border-right-color: var(--fill-color);\n",
       "      border-top-color: var(--fill-color);\n",
       "    }\n",
       "    60% {\n",
       "      border-color: transparent;\n",
       "      border-right-color: var(--fill-color);\n",
       "    }\n",
       "    80% {\n",
       "      border-color: transparent;\n",
       "      border-right-color: var(--fill-color);\n",
       "      border-bottom-color: var(--fill-color);\n",
       "    }\n",
       "    90% {\n",
       "      border-color: transparent;\n",
       "      border-bottom-color: var(--fill-color);\n",
       "    }\n",
       "  }\n",
       "</style>\n",
       "\n",
       "  <script>\n",
       "    async function quickchart(key) {\n",
       "      const quickchartButtonEl =\n",
       "        document.querySelector('#' + key + ' button');\n",
       "      quickchartButtonEl.disabled = true;  // To prevent multiple clicks.\n",
       "      quickchartButtonEl.classList.add('colab-df-spinner');\n",
       "      try {\n",
       "        const charts = await google.colab.kernel.invokeFunction(\n",
       "            'suggestCharts', [key], {});\n",
       "      } catch (error) {\n",
       "        console.error('Error during call to suggestCharts:', error);\n",
       "      }\n",
       "      quickchartButtonEl.classList.remove('colab-df-spinner');\n",
       "      quickchartButtonEl.classList.add('colab-df-quickchart-complete');\n",
       "    }\n",
       "    (() => {\n",
       "      let quickchartButtonEl =\n",
       "        document.querySelector('#df-8ce62480-c964-4077-bfcf-35dabfa8dc3f button');\n",
       "      quickchartButtonEl.style.display =\n",
       "        google.colab.kernel.accessAllowed ? 'block' : 'none';\n",
       "    })();\n",
       "  </script>\n",
       "</div>\n",
       "\n",
       "    </div>\n",
       "  </div>\n"
      ],
      "text/plain": [
       "         Date  Open      High       Low     Close  Adj Close     Volume\n",
       "0  1990-02-16   0.0  0.079861  0.073785  0.077257   0.059806  940636800\n",
       "1  1990-02-20   0.0  0.079861  0.074653  0.079861   0.061822  151862400\n",
       "2  1990-02-21   0.0  0.078993  0.075521  0.078125   0.060478   70531200\n",
       "3  1990-02-22   0.0  0.081597  0.078993  0.078993   0.061150   45216000\n",
       "4  1990-02-23   0.0  0.079861  0.078125  0.078559   0.060814   44697600"
      ]
     },
     "execution_count": 4,
     "metadata": {},
     "output_type": "execute_result"
    }
   ],
   "source": [
    "csco.head()"
   ]
  },
  {
   "cell_type": "markdown",
   "metadata": {
    "id": "hNNA3urlMmZO"
   },
   "source": [
    "Pertama, saya memulai dengan eksplorasi data untuk dua dataset ini: AMZN (Amazon) dan CSCO (Cisco). Kedua dataset ini akan saya proses secara terpisah karena mereka berisi data harga saham dari dua perusahaan yang berbeda."
   ]
  },
  {
   "cell_type": "markdown",
   "metadata": {
    "id": "e1tJi3_NPP6P"
   },
   "source": [
    "### Explore AMZN data"
   ]
  },
  {
   "cell_type": "code",
   "execution_count": 5,
   "metadata": {
    "colab": {
     "base_uri": "https://localhost:8080/"
    },
    "id": "ZFqxLmCWPLRa",
    "outputId": "a60ea066-ba1c-425c-aeb7-f42b59f1a038"
   },
   "outputs": [
    {
     "data": {
      "text/plain": [
       "Index(['Date', 'Open', 'High', 'Low', 'Close', 'Adj Close', 'Volume'], dtype='object')"
      ]
     },
     "execution_count": 5,
     "metadata": {},
     "output_type": "execute_result"
    }
   ],
   "source": [
    "amzn.columns"
   ]
  },
  {
   "cell_type": "code",
   "execution_count": 6,
   "metadata": {
    "colab": {
     "base_uri": "https://localhost:8080/"
    },
    "id": "EPeBWrCdPej_",
    "outputId": "cd8f0a05-72be-4d9f-96c2-c6c1c7496b83"
   },
   "outputs": [
    {
     "data": {
      "text/plain": [
       "(5758, 7)"
      ]
     },
     "execution_count": 6,
     "metadata": {},
     "output_type": "execute_result"
    }
   ],
   "source": [
    "amzn.shape"
   ]
  },
  {
   "cell_type": "markdown",
   "metadata": {
    "id": "ZNSgx3WCMzYu"
   },
   "source": [
    "Data AMZN ini memiliki 5758 data dengan 7 variabel"
   ]
  },
  {
   "cell_type": "code",
   "execution_count": 7,
   "metadata": {
    "colab": {
     "base_uri": "https://localhost:8080/"
    },
    "id": "yP_oMPYVPiXX",
    "outputId": "afb69a4c-984c-4853-dc04-595ad472680b"
   },
   "outputs": [
    {
     "name": "stdout",
     "output_type": "stream",
     "text": [
      "<class 'pandas.core.frame.DataFrame'>\n",
      "RangeIndex: 5758 entries, 0 to 5757\n",
      "Data columns (total 7 columns):\n",
      " #   Column     Non-Null Count  Dtype  \n",
      "---  ------     --------------  -----  \n",
      " 0   Date       5758 non-null   object \n",
      " 1   Open       5758 non-null   float64\n",
      " 2   High       5758 non-null   float64\n",
      " 3   Low        5758 non-null   float64\n",
      " 4   Close      5758 non-null   float64\n",
      " 5   Adj Close  5758 non-null   float64\n",
      " 6   Volume     5758 non-null   int64  \n",
      "dtypes: float64(5), int64(1), object(1)\n",
      "memory usage: 315.0+ KB\n"
     ]
    }
   ],
   "source": [
    "amzn.info()"
   ]
  },
  {
   "cell_type": "markdown",
   "metadata": {
    "id": "0drOigPgNjZ6"
   },
   "source": [
    "Selanjutnya, saya melakukan parsing untuk kolom Date. Tujuannya adalah untuk mengonversi kolom Date dari format string menjadi format datetime, sehingga memudahkan manipulasi data berbasis waktu seperti filtering, sorting, dan plotting. Selain itu, saya menjadikan kolom Date sebagai indeks DataFrame agar dapat dengan mudah mengakses data berdasarkan tanggal."
   ]
  },
  {
   "cell_type": "code",
   "execution_count": 8,
   "metadata": {
    "id": "D1C8g4VOPjg6"
   },
   "outputs": [],
   "source": [
    "amzn_df = pd.read_csv('AMZN.csv',parse_dates=['Date'],index_col=['Date'])"
   ]
  },
  {
   "cell_type": "code",
   "execution_count": 9,
   "metadata": {
    "colab": {
     "base_uri": "https://localhost:8080/",
     "height": 237
    },
    "id": "P2qestXZQb2E",
    "outputId": "02494bd1-f841-4bdc-da0f-28273ebf1c2d"
   },
   "outputs": [
    {
     "data": {
      "application/vnd.google.colaboratory.intrinsic+json": {
       "summary": "{\n  \"name\": \"amzn_df\",\n  \"rows\": 5758,\n  \"fields\": [\n    {\n      \"column\": \"Date\",\n      \"properties\": {\n        \"dtype\": \"date\",\n        \"min\": \"1997-05-15 00:00:00\",\n        \"max\": \"2020-04-01 00:00:00\",\n        \"num_unique_values\": 5758,\n        \"samples\": [\n          \"2009-12-08 00:00:00\",\n          \"2015-10-06 00:00:00\",\n          \"2011-08-19 00:00:00\"\n        ],\n        \"semantic_type\": \"\",\n        \"description\": \"\"\n      }\n    },\n    {\n      \"column\": \"Open\",\n      \"properties\": {\n        \"dtype\": \"number\",\n        \"std\": 523.3653744678122,\n        \"min\": 1.40625,\n        \"max\": 2173.070068359375,\n        \"num_unique_values\": 5070,\n        \"samples\": [\n          60.959999084472656,\n          35.95000076293945,\n          268.5400085449219\n        ],\n        \"semantic_type\": \"\",\n        \"description\": \"\"\n      }\n    },\n    {\n      \"column\": \"High\",\n      \"properties\": {\n        \"dtype\": \"number\",\n        \"std\": 528.1385562346728,\n        \"min\": 1.4479166269302368,\n        \"max\": 2185.949951171875,\n        \"num_unique_values\": 5014,\n        \"samples\": [\n          1800.800048828125,\n          16.360000610351562,\n          235.94000244140625\n        ],\n        \"semantic_type\": \"\",\n        \"description\": \"\"\n      }\n    },\n    {\n      \"column\": \"Low\",\n      \"properties\": {\n        \"dtype\": \"number\",\n        \"std\": 517.7269712863316,\n        \"min\": 1.3125,\n        \"max\": 2161.1201171875,\n        \"num_unique_values\": 5019,\n        \"samples\": [\n          125.51000213623048,\n          177.5,\n          932.8900146484376\n        ],\n        \"semantic_type\": \"\",\n        \"description\": \"\"\n      }\n    },\n    {\n      \"column\": \"Close\",\n      \"properties\": {\n        \"dtype\": \"number\",\n        \"std\": 523.1402068936934,\n        \"min\": 1.3958333730697632,\n        \"max\": 2170.219970703125,\n        \"num_unique_values\": 5148,\n        \"samples\": [\n          19.25,\n          265.0,\n          16.290000915527344\n        ],\n        \"semantic_type\": \"\",\n        \"description\": \"\"\n      }\n    },\n    {\n      \"column\": \"Adj Close\",\n      \"properties\": {\n        \"dtype\": \"number\",\n        \"std\": 523.1402068936934,\n        \"min\": 1.3958333730697632,\n        \"max\": 2170.219970703125,\n        \"num_unique_values\": 5148,\n        \"samples\": [\n          19.25,\n          265.0,\n          16.290000915527344\n        ],\n        \"semantic_type\": \"\",\n        \"description\": \"\"\n      }\n    },\n    {\n      \"column\": \"Volume\",\n      \"properties\": {\n        \"dtype\": \"number\",\n        \"std\": 7325903,\n        \"min\": 487200,\n        \"max\": 104329200,\n        \"num_unique_values\": 5615,\n        \"samples\": [\n          2679500,\n          2829200,\n          3333600\n        ],\n        \"semantic_type\": \"\",\n        \"description\": \"\"\n      }\n    }\n  ]\n}",
       "type": "dataframe",
       "variable_name": "amzn_df"
      },
      "text/html": [
       "\n",
       "  <div id=\"df-a312f6be-6e8e-4d85-b6e3-4f836045df3d\" class=\"colab-df-container\">\n",
       "    <div>\n",
       "<style scoped>\n",
       "    .dataframe tbody tr th:only-of-type {\n",
       "        vertical-align: middle;\n",
       "    }\n",
       "\n",
       "    .dataframe tbody tr th {\n",
       "        vertical-align: top;\n",
       "    }\n",
       "\n",
       "    .dataframe thead th {\n",
       "        text-align: right;\n",
       "    }\n",
       "</style>\n",
       "<table border=\"1\" class=\"dataframe\">\n",
       "  <thead>\n",
       "    <tr style=\"text-align: right;\">\n",
       "      <th></th>\n",
       "      <th>Open</th>\n",
       "      <th>High</th>\n",
       "      <th>Low</th>\n",
       "      <th>Close</th>\n",
       "      <th>Adj Close</th>\n",
       "      <th>Volume</th>\n",
       "    </tr>\n",
       "    <tr>\n",
       "      <th>Date</th>\n",
       "      <th></th>\n",
       "      <th></th>\n",
       "      <th></th>\n",
       "      <th></th>\n",
       "      <th></th>\n",
       "      <th></th>\n",
       "    </tr>\n",
       "  </thead>\n",
       "  <tbody>\n",
       "    <tr>\n",
       "      <th>1997-05-15</th>\n",
       "      <td>2.437500</td>\n",
       "      <td>2.500000</td>\n",
       "      <td>1.927083</td>\n",
       "      <td>1.958333</td>\n",
       "      <td>1.958333</td>\n",
       "      <td>72156000</td>\n",
       "    </tr>\n",
       "    <tr>\n",
       "      <th>1997-05-16</th>\n",
       "      <td>1.968750</td>\n",
       "      <td>1.979167</td>\n",
       "      <td>1.708333</td>\n",
       "      <td>1.729167</td>\n",
       "      <td>1.729167</td>\n",
       "      <td>14700000</td>\n",
       "    </tr>\n",
       "    <tr>\n",
       "      <th>1997-05-19</th>\n",
       "      <td>1.760417</td>\n",
       "      <td>1.770833</td>\n",
       "      <td>1.625000</td>\n",
       "      <td>1.708333</td>\n",
       "      <td>1.708333</td>\n",
       "      <td>6106800</td>\n",
       "    </tr>\n",
       "    <tr>\n",
       "      <th>1997-05-20</th>\n",
       "      <td>1.729167</td>\n",
       "      <td>1.750000</td>\n",
       "      <td>1.635417</td>\n",
       "      <td>1.635417</td>\n",
       "      <td>1.635417</td>\n",
       "      <td>5467200</td>\n",
       "    </tr>\n",
       "    <tr>\n",
       "      <th>1997-05-21</th>\n",
       "      <td>1.635417</td>\n",
       "      <td>1.645833</td>\n",
       "      <td>1.375000</td>\n",
       "      <td>1.427083</td>\n",
       "      <td>1.427083</td>\n",
       "      <td>18853200</td>\n",
       "    </tr>\n",
       "  </tbody>\n",
       "</table>\n",
       "</div>\n",
       "    <div class=\"colab-df-buttons\">\n",
       "\n",
       "  <div class=\"colab-df-container\">\n",
       "    <button class=\"colab-df-convert\" onclick=\"convertToInteractive('df-a312f6be-6e8e-4d85-b6e3-4f836045df3d')\"\n",
       "            title=\"Convert this dataframe to an interactive table.\"\n",
       "            style=\"display:none;\">\n",
       "\n",
       "  <svg xmlns=\"http://www.w3.org/2000/svg\" height=\"24px\" viewBox=\"0 -960 960 960\">\n",
       "    <path d=\"M120-120v-720h720v720H120Zm60-500h600v-160H180v160Zm220 220h160v-160H400v160Zm0 220h160v-160H400v160ZM180-400h160v-160H180v160Zm440 0h160v-160H620v160ZM180-180h160v-160H180v160Zm440 0h160v-160H620v160Z\"/>\n",
       "  </svg>\n",
       "    </button>\n",
       "\n",
       "  <style>\n",
       "    .colab-df-container {\n",
       "      display:flex;\n",
       "      gap: 12px;\n",
       "    }\n",
       "\n",
       "    .colab-df-convert {\n",
       "      background-color: #E8F0FE;\n",
       "      border: none;\n",
       "      border-radius: 50%;\n",
       "      cursor: pointer;\n",
       "      display: none;\n",
       "      fill: #1967D2;\n",
       "      height: 32px;\n",
       "      padding: 0 0 0 0;\n",
       "      width: 32px;\n",
       "    }\n",
       "\n",
       "    .colab-df-convert:hover {\n",
       "      background-color: #E2EBFA;\n",
       "      box-shadow: 0px 1px 2px rgba(60, 64, 67, 0.3), 0px 1px 3px 1px rgba(60, 64, 67, 0.15);\n",
       "      fill: #174EA6;\n",
       "    }\n",
       "\n",
       "    .colab-df-buttons div {\n",
       "      margin-bottom: 4px;\n",
       "    }\n",
       "\n",
       "    [theme=dark] .colab-df-convert {\n",
       "      background-color: #3B4455;\n",
       "      fill: #D2E3FC;\n",
       "    }\n",
       "\n",
       "    [theme=dark] .colab-df-convert:hover {\n",
       "      background-color: #434B5C;\n",
       "      box-shadow: 0px 1px 3px 1px rgba(0, 0, 0, 0.15);\n",
       "      filter: drop-shadow(0px 1px 2px rgba(0, 0, 0, 0.3));\n",
       "      fill: #FFFFFF;\n",
       "    }\n",
       "  </style>\n",
       "\n",
       "    <script>\n",
       "      const buttonEl =\n",
       "        document.querySelector('#df-a312f6be-6e8e-4d85-b6e3-4f836045df3d button.colab-df-convert');\n",
       "      buttonEl.style.display =\n",
       "        google.colab.kernel.accessAllowed ? 'block' : 'none';\n",
       "\n",
       "      async function convertToInteractive(key) {\n",
       "        const element = document.querySelector('#df-a312f6be-6e8e-4d85-b6e3-4f836045df3d');\n",
       "        const dataTable =\n",
       "          await google.colab.kernel.invokeFunction('convertToInteractive',\n",
       "                                                    [key], {});\n",
       "        if (!dataTable) return;\n",
       "\n",
       "        const docLinkHtml = 'Like what you see? Visit the ' +\n",
       "          '<a target=\"_blank\" href=https://colab.research.google.com/notebooks/data_table.ipynb>data table notebook</a>'\n",
       "          + ' to learn more about interactive tables.';\n",
       "        element.innerHTML = '';\n",
       "        dataTable['output_type'] = 'display_data';\n",
       "        await google.colab.output.renderOutput(dataTable, element);\n",
       "        const docLink = document.createElement('div');\n",
       "        docLink.innerHTML = docLinkHtml;\n",
       "        element.appendChild(docLink);\n",
       "      }\n",
       "    </script>\n",
       "  </div>\n",
       "\n",
       "\n",
       "<div id=\"df-ffe535b0-4226-4d7e-876b-d671c8474b01\">\n",
       "  <button class=\"colab-df-quickchart\" onclick=\"quickchart('df-ffe535b0-4226-4d7e-876b-d671c8474b01')\"\n",
       "            title=\"Suggest charts\"\n",
       "            style=\"display:none;\">\n",
       "\n",
       "<svg xmlns=\"http://www.w3.org/2000/svg\" height=\"24px\"viewBox=\"0 0 24 24\"\n",
       "     width=\"24px\">\n",
       "    <g>\n",
       "        <path d=\"M19 3H5c-1.1 0-2 .9-2 2v14c0 1.1.9 2 2 2h14c1.1 0 2-.9 2-2V5c0-1.1-.9-2-2-2zM9 17H7v-7h2v7zm4 0h-2V7h2v10zm4 0h-2v-4h2v4z\"/>\n",
       "    </g>\n",
       "</svg>\n",
       "  </button>\n",
       "\n",
       "<style>\n",
       "  .colab-df-quickchart {\n",
       "      --bg-color: #E8F0FE;\n",
       "      --fill-color: #1967D2;\n",
       "      --hover-bg-color: #E2EBFA;\n",
       "      --hover-fill-color: #174EA6;\n",
       "      --disabled-fill-color: #AAA;\n",
       "      --disabled-bg-color: #DDD;\n",
       "  }\n",
       "\n",
       "  [theme=dark] .colab-df-quickchart {\n",
       "      --bg-color: #3B4455;\n",
       "      --fill-color: #D2E3FC;\n",
       "      --hover-bg-color: #434B5C;\n",
       "      --hover-fill-color: #FFFFFF;\n",
       "      --disabled-bg-color: #3B4455;\n",
       "      --disabled-fill-color: #666;\n",
       "  }\n",
       "\n",
       "  .colab-df-quickchart {\n",
       "    background-color: var(--bg-color);\n",
       "    border: none;\n",
       "    border-radius: 50%;\n",
       "    cursor: pointer;\n",
       "    display: none;\n",
       "    fill: var(--fill-color);\n",
       "    height: 32px;\n",
       "    padding: 0;\n",
       "    width: 32px;\n",
       "  }\n",
       "\n",
       "  .colab-df-quickchart:hover {\n",
       "    background-color: var(--hover-bg-color);\n",
       "    box-shadow: 0 1px 2px rgba(60, 64, 67, 0.3), 0 1px 3px 1px rgba(60, 64, 67, 0.15);\n",
       "    fill: var(--button-hover-fill-color);\n",
       "  }\n",
       "\n",
       "  .colab-df-quickchart-complete:disabled,\n",
       "  .colab-df-quickchart-complete:disabled:hover {\n",
       "    background-color: var(--disabled-bg-color);\n",
       "    fill: var(--disabled-fill-color);\n",
       "    box-shadow: none;\n",
       "  }\n",
       "\n",
       "  .colab-df-spinner {\n",
       "    border: 2px solid var(--fill-color);\n",
       "    border-color: transparent;\n",
       "    border-bottom-color: var(--fill-color);\n",
       "    animation:\n",
       "      spin 1s steps(1) infinite;\n",
       "  }\n",
       "\n",
       "  @keyframes spin {\n",
       "    0% {\n",
       "      border-color: transparent;\n",
       "      border-bottom-color: var(--fill-color);\n",
       "      border-left-color: var(--fill-color);\n",
       "    }\n",
       "    20% {\n",
       "      border-color: transparent;\n",
       "      border-left-color: var(--fill-color);\n",
       "      border-top-color: var(--fill-color);\n",
       "    }\n",
       "    30% {\n",
       "      border-color: transparent;\n",
       "      border-left-color: var(--fill-color);\n",
       "      border-top-color: var(--fill-color);\n",
       "      border-right-color: var(--fill-color);\n",
       "    }\n",
       "    40% {\n",
       "      border-color: transparent;\n",
       "      border-right-color: var(--fill-color);\n",
       "      border-top-color: var(--fill-color);\n",
       "    }\n",
       "    60% {\n",
       "      border-color: transparent;\n",
       "      border-right-color: var(--fill-color);\n",
       "    }\n",
       "    80% {\n",
       "      border-color: transparent;\n",
       "      border-right-color: var(--fill-color);\n",
       "      border-bottom-color: var(--fill-color);\n",
       "    }\n",
       "    90% {\n",
       "      border-color: transparent;\n",
       "      border-bottom-color: var(--fill-color);\n",
       "    }\n",
       "  }\n",
       "</style>\n",
       "\n",
       "  <script>\n",
       "    async function quickchart(key) {\n",
       "      const quickchartButtonEl =\n",
       "        document.querySelector('#' + key + ' button');\n",
       "      quickchartButtonEl.disabled = true;  // To prevent multiple clicks.\n",
       "      quickchartButtonEl.classList.add('colab-df-spinner');\n",
       "      try {\n",
       "        const charts = await google.colab.kernel.invokeFunction(\n",
       "            'suggestCharts', [key], {});\n",
       "      } catch (error) {\n",
       "        console.error('Error during call to suggestCharts:', error);\n",
       "      }\n",
       "      quickchartButtonEl.classList.remove('colab-df-spinner');\n",
       "      quickchartButtonEl.classList.add('colab-df-quickchart-complete');\n",
       "    }\n",
       "    (() => {\n",
       "      let quickchartButtonEl =\n",
       "        document.querySelector('#df-ffe535b0-4226-4d7e-876b-d671c8474b01 button');\n",
       "      quickchartButtonEl.style.display =\n",
       "        google.colab.kernel.accessAllowed ? 'block' : 'none';\n",
       "    })();\n",
       "  </script>\n",
       "</div>\n",
       "\n",
       "    </div>\n",
       "  </div>\n"
      ],
      "text/plain": [
       "                Open      High       Low     Close  Adj Close    Volume\n",
       "Date                                                                   \n",
       "1997-05-15  2.437500  2.500000  1.927083  1.958333   1.958333  72156000\n",
       "1997-05-16  1.968750  1.979167  1.708333  1.729167   1.729167  14700000\n",
       "1997-05-19  1.760417  1.770833  1.625000  1.708333   1.708333   6106800\n",
       "1997-05-20  1.729167  1.750000  1.635417  1.635417   1.635417   5467200\n",
       "1997-05-21  1.635417  1.645833  1.375000  1.427083   1.427083  18853200"
      ]
     },
     "execution_count": 9,
     "metadata": {},
     "output_type": "execute_result"
    }
   ],
   "source": [
    "amzn_df.head()"
   ]
  },
  {
   "cell_type": "markdown",
   "metadata": {
    "id": "Vc0nBaYxNq1C"
   },
   "source": [
    "Sekarang kolom 'Date' sudah menjadi format datetime dan menjadikannya sebagai indeks."
   ]
  },
  {
   "cell_type": "markdown",
   "metadata": {
    "id": "jtHR7fpkODWY"
   },
   "source": [
    "Di sini, saya ingin fokus pada prediksi harga penutupan saham, yang merupakan salah satu informasi paling penting dalam analisis saham. Harga penutupan mencerminkan nilai akhir saham setelah satu hari perdagangan dan sering digunakan dalam analisis teknis dan pembuatan keputusan investasi.\n",
    "\n",
    "Oleh karena itu, saya hanya akan mengambil dan menggunakan kolom 'Close'"
   ]
  },
  {
   "cell_type": "code",
   "execution_count": 10,
   "metadata": {
    "id": "zUxvJ_aGQc-y"
   },
   "outputs": [],
   "source": [
    "amzn_df = pd.DataFrame(amzn_df['Close'])"
   ]
  },
  {
   "cell_type": "code",
   "execution_count": 11,
   "metadata": {
    "colab": {
     "base_uri": "https://localhost:8080/",
     "height": 237
    },
    "id": "ZgxoNvxFQuLI",
    "outputId": "401c24a6-f9d8-47fb-8d72-1844e2a5828f"
   },
   "outputs": [
    {
     "data": {
      "application/vnd.google.colaboratory.intrinsic+json": {
       "summary": "{\n  \"name\": \"amzn_df\",\n  \"rows\": 5758,\n  \"fields\": [\n    {\n      \"column\": \"Date\",\n      \"properties\": {\n        \"dtype\": \"date\",\n        \"min\": \"1997-05-15 00:00:00\",\n        \"max\": \"2020-04-01 00:00:00\",\n        \"num_unique_values\": 5758,\n        \"samples\": [\n          \"2009-12-08 00:00:00\",\n          \"2015-10-06 00:00:00\",\n          \"2011-08-19 00:00:00\"\n        ],\n        \"semantic_type\": \"\",\n        \"description\": \"\"\n      }\n    },\n    {\n      \"column\": \"Close\",\n      \"properties\": {\n        \"dtype\": \"number\",\n        \"std\": 523.1402068936934,\n        \"min\": 1.3958333730697632,\n        \"max\": 2170.219970703125,\n        \"num_unique_values\": 5148,\n        \"samples\": [\n          19.25,\n          265.0,\n          16.290000915527344\n        ],\n        \"semantic_type\": \"\",\n        \"description\": \"\"\n      }\n    }\n  ]\n}",
       "type": "dataframe",
       "variable_name": "amzn_df"
      },
      "text/html": [
       "\n",
       "  <div id=\"df-e93288ab-9637-4c35-bbc5-d725d7a15dc1\" class=\"colab-df-container\">\n",
       "    <div>\n",
       "<style scoped>\n",
       "    .dataframe tbody tr th:only-of-type {\n",
       "        vertical-align: middle;\n",
       "    }\n",
       "\n",
       "    .dataframe tbody tr th {\n",
       "        vertical-align: top;\n",
       "    }\n",
       "\n",
       "    .dataframe thead th {\n",
       "        text-align: right;\n",
       "    }\n",
       "</style>\n",
       "<table border=\"1\" class=\"dataframe\">\n",
       "  <thead>\n",
       "    <tr style=\"text-align: right;\">\n",
       "      <th></th>\n",
       "      <th>Close</th>\n",
       "    </tr>\n",
       "    <tr>\n",
       "      <th>Date</th>\n",
       "      <th></th>\n",
       "    </tr>\n",
       "  </thead>\n",
       "  <tbody>\n",
       "    <tr>\n",
       "      <th>1997-05-15</th>\n",
       "      <td>1.958333</td>\n",
       "    </tr>\n",
       "    <tr>\n",
       "      <th>1997-05-16</th>\n",
       "      <td>1.729167</td>\n",
       "    </tr>\n",
       "    <tr>\n",
       "      <th>1997-05-19</th>\n",
       "      <td>1.708333</td>\n",
       "    </tr>\n",
       "    <tr>\n",
       "      <th>1997-05-20</th>\n",
       "      <td>1.635417</td>\n",
       "    </tr>\n",
       "    <tr>\n",
       "      <th>1997-05-21</th>\n",
       "      <td>1.427083</td>\n",
       "    </tr>\n",
       "  </tbody>\n",
       "</table>\n",
       "</div>\n",
       "    <div class=\"colab-df-buttons\">\n",
       "\n",
       "  <div class=\"colab-df-container\">\n",
       "    <button class=\"colab-df-convert\" onclick=\"convertToInteractive('df-e93288ab-9637-4c35-bbc5-d725d7a15dc1')\"\n",
       "            title=\"Convert this dataframe to an interactive table.\"\n",
       "            style=\"display:none;\">\n",
       "\n",
       "  <svg xmlns=\"http://www.w3.org/2000/svg\" height=\"24px\" viewBox=\"0 -960 960 960\">\n",
       "    <path d=\"M120-120v-720h720v720H120Zm60-500h600v-160H180v160Zm220 220h160v-160H400v160Zm0 220h160v-160H400v160ZM180-400h160v-160H180v160Zm440 0h160v-160H620v160ZM180-180h160v-160H180v160Zm440 0h160v-160H620v160Z\"/>\n",
       "  </svg>\n",
       "    </button>\n",
       "\n",
       "  <style>\n",
       "    .colab-df-container {\n",
       "      display:flex;\n",
       "      gap: 12px;\n",
       "    }\n",
       "\n",
       "    .colab-df-convert {\n",
       "      background-color: #E8F0FE;\n",
       "      border: none;\n",
       "      border-radius: 50%;\n",
       "      cursor: pointer;\n",
       "      display: none;\n",
       "      fill: #1967D2;\n",
       "      height: 32px;\n",
       "      padding: 0 0 0 0;\n",
       "      width: 32px;\n",
       "    }\n",
       "\n",
       "    .colab-df-convert:hover {\n",
       "      background-color: #E2EBFA;\n",
       "      box-shadow: 0px 1px 2px rgba(60, 64, 67, 0.3), 0px 1px 3px 1px rgba(60, 64, 67, 0.15);\n",
       "      fill: #174EA6;\n",
       "    }\n",
       "\n",
       "    .colab-df-buttons div {\n",
       "      margin-bottom: 4px;\n",
       "    }\n",
       "\n",
       "    [theme=dark] .colab-df-convert {\n",
       "      background-color: #3B4455;\n",
       "      fill: #D2E3FC;\n",
       "    }\n",
       "\n",
       "    [theme=dark] .colab-df-convert:hover {\n",
       "      background-color: #434B5C;\n",
       "      box-shadow: 0px 1px 3px 1px rgba(0, 0, 0, 0.15);\n",
       "      filter: drop-shadow(0px 1px 2px rgba(0, 0, 0, 0.3));\n",
       "      fill: #FFFFFF;\n",
       "    }\n",
       "  </style>\n",
       "\n",
       "    <script>\n",
       "      const buttonEl =\n",
       "        document.querySelector('#df-e93288ab-9637-4c35-bbc5-d725d7a15dc1 button.colab-df-convert');\n",
       "      buttonEl.style.display =\n",
       "        google.colab.kernel.accessAllowed ? 'block' : 'none';\n",
       "\n",
       "      async function convertToInteractive(key) {\n",
       "        const element = document.querySelector('#df-e93288ab-9637-4c35-bbc5-d725d7a15dc1');\n",
       "        const dataTable =\n",
       "          await google.colab.kernel.invokeFunction('convertToInteractive',\n",
       "                                                    [key], {});\n",
       "        if (!dataTable) return;\n",
       "\n",
       "        const docLinkHtml = 'Like what you see? Visit the ' +\n",
       "          '<a target=\"_blank\" href=https://colab.research.google.com/notebooks/data_table.ipynb>data table notebook</a>'\n",
       "          + ' to learn more about interactive tables.';\n",
       "        element.innerHTML = '';\n",
       "        dataTable['output_type'] = 'display_data';\n",
       "        await google.colab.output.renderOutput(dataTable, element);\n",
       "        const docLink = document.createElement('div');\n",
       "        docLink.innerHTML = docLinkHtml;\n",
       "        element.appendChild(docLink);\n",
       "      }\n",
       "    </script>\n",
       "  </div>\n",
       "\n",
       "\n",
       "<div id=\"df-27f7d249-6096-423a-ab68-9319cae5a8e6\">\n",
       "  <button class=\"colab-df-quickchart\" onclick=\"quickchart('df-27f7d249-6096-423a-ab68-9319cae5a8e6')\"\n",
       "            title=\"Suggest charts\"\n",
       "            style=\"display:none;\">\n",
       "\n",
       "<svg xmlns=\"http://www.w3.org/2000/svg\" height=\"24px\"viewBox=\"0 0 24 24\"\n",
       "     width=\"24px\">\n",
       "    <g>\n",
       "        <path d=\"M19 3H5c-1.1 0-2 .9-2 2v14c0 1.1.9 2 2 2h14c1.1 0 2-.9 2-2V5c0-1.1-.9-2-2-2zM9 17H7v-7h2v7zm4 0h-2V7h2v10zm4 0h-2v-4h2v4z\"/>\n",
       "    </g>\n",
       "</svg>\n",
       "  </button>\n",
       "\n",
       "<style>\n",
       "  .colab-df-quickchart {\n",
       "      --bg-color: #E8F0FE;\n",
       "      --fill-color: #1967D2;\n",
       "      --hover-bg-color: #E2EBFA;\n",
       "      --hover-fill-color: #174EA6;\n",
       "      --disabled-fill-color: #AAA;\n",
       "      --disabled-bg-color: #DDD;\n",
       "  }\n",
       "\n",
       "  [theme=dark] .colab-df-quickchart {\n",
       "      --bg-color: #3B4455;\n",
       "      --fill-color: #D2E3FC;\n",
       "      --hover-bg-color: #434B5C;\n",
       "      --hover-fill-color: #FFFFFF;\n",
       "      --disabled-bg-color: #3B4455;\n",
       "      --disabled-fill-color: #666;\n",
       "  }\n",
       "\n",
       "  .colab-df-quickchart {\n",
       "    background-color: var(--bg-color);\n",
       "    border: none;\n",
       "    border-radius: 50%;\n",
       "    cursor: pointer;\n",
       "    display: none;\n",
       "    fill: var(--fill-color);\n",
       "    height: 32px;\n",
       "    padding: 0;\n",
       "    width: 32px;\n",
       "  }\n",
       "\n",
       "  .colab-df-quickchart:hover {\n",
       "    background-color: var(--hover-bg-color);\n",
       "    box-shadow: 0 1px 2px rgba(60, 64, 67, 0.3), 0 1px 3px 1px rgba(60, 64, 67, 0.15);\n",
       "    fill: var(--button-hover-fill-color);\n",
       "  }\n",
       "\n",
       "  .colab-df-quickchart-complete:disabled,\n",
       "  .colab-df-quickchart-complete:disabled:hover {\n",
       "    background-color: var(--disabled-bg-color);\n",
       "    fill: var(--disabled-fill-color);\n",
       "    box-shadow: none;\n",
       "  }\n",
       "\n",
       "  .colab-df-spinner {\n",
       "    border: 2px solid var(--fill-color);\n",
       "    border-color: transparent;\n",
       "    border-bottom-color: var(--fill-color);\n",
       "    animation:\n",
       "      spin 1s steps(1) infinite;\n",
       "  }\n",
       "\n",
       "  @keyframes spin {\n",
       "    0% {\n",
       "      border-color: transparent;\n",
       "      border-bottom-color: var(--fill-color);\n",
       "      border-left-color: var(--fill-color);\n",
       "    }\n",
       "    20% {\n",
       "      border-color: transparent;\n",
       "      border-left-color: var(--fill-color);\n",
       "      border-top-color: var(--fill-color);\n",
       "    }\n",
       "    30% {\n",
       "      border-color: transparent;\n",
       "      border-left-color: var(--fill-color);\n",
       "      border-top-color: var(--fill-color);\n",
       "      border-right-color: var(--fill-color);\n",
       "    }\n",
       "    40% {\n",
       "      border-color: transparent;\n",
       "      border-right-color: var(--fill-color);\n",
       "      border-top-color: var(--fill-color);\n",
       "    }\n",
       "    60% {\n",
       "      border-color: transparent;\n",
       "      border-right-color: var(--fill-color);\n",
       "    }\n",
       "    80% {\n",
       "      border-color: transparent;\n",
       "      border-right-color: var(--fill-color);\n",
       "      border-bottom-color: var(--fill-color);\n",
       "    }\n",
       "    90% {\n",
       "      border-color: transparent;\n",
       "      border-bottom-color: var(--fill-color);\n",
       "    }\n",
       "  }\n",
       "</style>\n",
       "\n",
       "  <script>\n",
       "    async function quickchart(key) {\n",
       "      const quickchartButtonEl =\n",
       "        document.querySelector('#' + key + ' button');\n",
       "      quickchartButtonEl.disabled = true;  // To prevent multiple clicks.\n",
       "      quickchartButtonEl.classList.add('colab-df-spinner');\n",
       "      try {\n",
       "        const charts = await google.colab.kernel.invokeFunction(\n",
       "            'suggestCharts', [key], {});\n",
       "      } catch (error) {\n",
       "        console.error('Error during call to suggestCharts:', error);\n",
       "      }\n",
       "      quickchartButtonEl.classList.remove('colab-df-spinner');\n",
       "      quickchartButtonEl.classList.add('colab-df-quickchart-complete');\n",
       "    }\n",
       "    (() => {\n",
       "      let quickchartButtonEl =\n",
       "        document.querySelector('#df-27f7d249-6096-423a-ab68-9319cae5a8e6 button');\n",
       "      quickchartButtonEl.style.display =\n",
       "        google.colab.kernel.accessAllowed ? 'block' : 'none';\n",
       "    })();\n",
       "  </script>\n",
       "</div>\n",
       "\n",
       "    </div>\n",
       "  </div>\n"
      ],
      "text/plain": [
       "               Close\n",
       "Date                \n",
       "1997-05-15  1.958333\n",
       "1997-05-16  1.729167\n",
       "1997-05-19  1.708333\n",
       "1997-05-20  1.635417\n",
       "1997-05-21  1.427083"
      ]
     },
     "execution_count": 11,
     "metadata": {},
     "output_type": "execute_result"
    }
   ],
   "source": [
    "amzn_df.head()"
   ]
  },
  {
   "cell_type": "code",
   "execution_count": 12,
   "metadata": {
    "colab": {
     "base_uri": "https://localhost:8080/"
    },
    "id": "R2wyFVpfzxhF",
    "outputId": "eed0f5c8-6769-4691-8f9d-e8da460a5704"
   },
   "outputs": [
    {
     "name": "stdout",
     "output_type": "stream",
     "text": [
      "             Close\n",
      "count  5758.000000\n",
      "mean    340.417580\n",
      "std     523.140207\n",
      "min       1.395833\n",
      "25%      37.562500\n",
      "50%      81.599998\n",
      "75%     334.290001\n",
      "max    2170.219971\n"
     ]
    }
   ],
   "source": [
    "print(amzn_df.describe())"
   ]
  },
  {
   "cell_type": "markdown",
   "metadata": {
    "id": "rprjrJlaOdeJ"
   },
   "source": [
    "Hasil statistik deskriptif ini memberikan gambaran umum tentang distribusi harga penutupan saham Amazon selama periode yang tercatat. Kita dapat melihat bahwa harga penutupan sangat bervariasi, dengan rata-rata yang cukup tinggi tetapi juga dengan standar deviasi yang besar. Ada peningkatan yang signifikan dalam harga penutupan saham Amazon dari nilai terendah (1.40 USD) ke nilai tertinggi (2170.22 USD), menunjukkan pertumbuhan yang signifikan selama periode tersebut."
   ]
  },
  {
   "cell_type": "code",
   "execution_count": 13,
   "metadata": {
    "colab": {
     "base_uri": "https://localhost:8080/"
    },
    "id": "Xpvm0gva0C5s",
    "outputId": "7c746c9d-013d-4a5c-c95f-8e89e62e2643"
   },
   "outputs": [
    {
     "name": "stdout",
     "output_type": "stream",
     "text": [
      "Missing values:\n",
      "Close    0\n",
      "dtype: int64\n"
     ]
    }
   ],
   "source": [
    "amzn_missing_values = amzn_df.isnull().sum()\n",
    "print(f\"Missing values:\\n{amzn_missing_values}\")"
   ]
  },
  {
   "cell_type": "markdown",
   "metadata": {
    "id": "-LFEvmdmOoCM"
   },
   "source": [
    "Dataset AMZN ini tidak memiliki missing values, sehingga saya dapat melanjutkan analisis dan model prediksi tanpa perlu menangani missing values."
   ]
  },
  {
   "cell_type": "code",
   "execution_count": 14,
   "metadata": {
    "colab": {
     "base_uri": "https://localhost:8080/"
    },
    "id": "_sSRWyAYzm_D",
    "outputId": "98284457-8eca-4bb6-8be0-3fbdeffcc773"
   },
   "outputs": [
    {
     "name": "stdout",
     "output_type": "stream",
     "text": [
      "Start Date: 1997-05-15 00:00:00, End Date: 2020-04-01 00:00:00\n"
     ]
    }
   ],
   "source": [
    "amzn_start_date = amzn_df.index.min()\n",
    "amzn_end_date = amzn_df.index.max()\n",
    "print(f\"Start Date: {amzn_start_date}, End Date: {amzn_end_date}\")"
   ]
  },
  {
   "cell_type": "markdown",
   "metadata": {
    "id": "TJFcp_kPO5YM"
   },
   "source": [
    "Untuk mengetahui rentang tanggal dalam dataset, saya menampilkan tanggal pertama dan terakhir dari kolom Date. Hasilnya adalah dataset mencakup periode waktu yang cukup panjang, mulai dari 15 Mei 1997 hingga 1 April 2020."
   ]
  },
  {
   "cell_type": "code",
   "execution_count": 15,
   "metadata": {
    "colab": {
     "base_uri": "https://localhost:8080/",
     "height": 463
    },
    "id": "001lBIw8QvnA",
    "outputId": "622dd192-acf8-4bd2-b4a4-a67a5a18c4fa"
   },
   "outputs": [
    {
     "data": {
      "text/plain": [
       "<matplotlib.legend.Legend at 0x7a3f4b378220>"
      ]
     },
     "execution_count": 15,
     "metadata": {},
     "output_type": "execute_result"
    },
    {
     "data": {
      "image/png": "[encoded data removed]",
      "text/plain": [
       "<Figure size 640x480 with 1 Axes>"
      ]
     },
     "metadata": {},
     "output_type": "display_data"
    }
   ],
   "source": [
    "amzn_df.plot()\n",
    "plt.ylabel(\"Close Price\")\n",
    "plt.title(\"AMZN Closing Prices\", fontsize=16)\n",
    "plt.legend()"
   ]
  },
  {
   "cell_type": "markdown",
   "metadata": {
    "id": "mSlZyvf8PH_R"
   },
   "source": [
    "Plot di atas menampilkan harga penutupan saham Amazon (AMZN) dari 15 Mei 1997 hingga 1 April 2020.\n",
    "\n",
    "1. Tren Jangka Panjang:\n",
    "\n",
    "- Harga penutupan saham Amazon menunjukkan tren kenaikan yang signifikan dari tahun 1997 hingga 2020.\n",
    "Pada awal periode, harga saham relatif rendah dan stabil, tetapi mulai meningkat pesat terutama setelah tahun 2010.\n",
    "\n",
    "2. Fluktuasi Harga:\n",
    "\n",
    "- Terdapat beberapa periode volatilitas tinggi di mana harga saham mengalami fluktuasi yang tajam. Hal ini dapat disebabkan oleh berbagai faktor, termasuk laporan pendapatan, perubahan pasar, dan berita perusahaan.\n",
    "\n",
    "3. Pertumbuhan Eksponensial:\n",
    "- Dari tahun 2015 ke atas, harga saham Amazon menunjukkan pertumbuhan eksponensial, mencerminkan peningkatan nilai perusahaan secara signifikan."
   ]
  },
  {
   "cell_type": "code",
   "execution_count": 16,
   "metadata": {
    "colab": {
     "base_uri": "https://localhost:8080/",
     "height": 444
    },
    "id": "NUMEN3xU0Oiu",
    "outputId": "2dcfa965-5322-4c77-d69f-68abe52c47e5"
   },
   "outputs": [
    {
     "data": {
      "image/png": "[encoded data removed]",
      "text/plain": [
       "<Figure size 640x480 with 1 Axes>"
      ]
     },
     "metadata": {},
     "output_type": "display_data"
    }
   ],
   "source": [
    "amzn_df['Daily Change'] = amzn_df['Close'].diff()\n",
    "amzn_df['Daily Change'].plot(color='red')\n",
    "plt.xlabel('Date')\n",
    "plt.ylabel('Daily Change')\n",
    "plt.title('AMZN Daily Price Change')\n",
    "plt.show()"
   ]
  },
  {
   "cell_type": "markdown",
   "metadata": {
    "id": "nzJv6jcZPnn1"
   },
   "source": [
    "Plot di atas menampilkan perubahan harga harian saham Amazon (AMZN) dari 15 Mei 1997 hingga 1 April 2020. Visualisasi ini dibuat untuk memahami volatilitas harian dari saham Amazon.\n",
    "\n",
    "1. Tren Perubahan Harian:\n",
    "\n",
    "- Pada awal periode (sekitar tahun 2000), perubahan harga harian relatif kecil dan stabil.\n",
    "Seiring waktu, terutama setelah tahun 2010, perubahan harga harian menjadi semakin besar dan lebih volatil.\n",
    "\n",
    "2. Volatilitas Tinggi:\n",
    "- Terlihat bahwa setelah tahun 2015, perubahan harga harian menunjukkan fluktuasi yang signifikan. Ini bisa mencerminkan peningkatan volume perdagangan, lebih banyak perhatian dari investor, dan reaksi terhadap berita atau laporan pendapatan.\n",
    "\n",
    "3. Perubahan Ekstrem:\n",
    "- Ada beberapa puncak dan lembah tajam yang menunjukkan perubahan harga yang sangat signifikan dalam satu hari. Hal ini bisa terjadi karena pengumuman besar atau kejadian pasar yang memengaruhi harga saham secara dramatis."
   ]
  },
  {
   "cell_type": "code",
   "execution_count": 17,
   "metadata": {
    "colab": {
     "base_uri": "https://localhost:8080/",
     "height": 444
    },
    "id": "Fb0zrKrc0Y3Z",
    "outputId": "1d654f48-44d3-428e-abfd-f04842aba237"
   },
   "outputs": [
    {
     "data": {
      "image/png": "[encoded data removed]",
      "text/plain": [
       "<Figure size 640x480 with 1 Axes>"
      ]
     },
     "metadata": {},
     "output_type": "display_data"
    }
   ],
   "source": [
    "amzn_df['30 Day MA'] = amzn_df['Close'].rolling(window=30).mean()\n",
    "amzn_df[['Close', '30 Day MA']].plot()\n",
    "plt.xlabel('Date')\n",
    "plt.ylabel('Price')\n",
    "plt.title('AMZN Closing Prices and 30 Day Moving Average')\n",
    "plt.show()"
   ]
  },
  {
   "cell_type": "markdown",
   "metadata": {
    "id": "BgKxXjTbQCHf"
   },
   "source": [
    "Plot di atas menampilkan harga penutupan saham Amazon (AMZN) dan rata-rata bergerak 30 hari (30 Day Moving Average) dari 15 Mei 1997 hingga 1 April 2020.\n",
    "\n",
    "1. Harga Penutupan:\n",
    "- Harga penutupan saham Amazon menunjukkan tren naik yang signifikan dari tahun 1997 hingga 2020.\n",
    "Terlihat jelas bahwa ada pertumbuhan yang eksponensial terutama setelah tahun 2010.\n",
    "\n",
    "2. Rata-Rata Bergerak 30 Hari:\n",
    "- Garis rata-rata bergerak 30 hari (30 Day MA) mengikuti tren harga penutupan tetapi lebih halus, karena rata-rata bergerak mengurangi fluktuasi jangka pendek dan memberikan pandangan yang lebih jelas tentang tren jangka panjang.\n",
    "Rata-rata bergerak ini membantu dalam mengidentifikasi tren yang lebih stabil dan mengurangi efek volatilitas harian.\n",
    "\n",
    "3. Perbandingan:\n",
    "- Saat harga penutupan berada di atas rata-rata bergerak, ini sering kali menunjukkan tren naik.\n",
    "Sebaliknya, ketika harga penutupan berada di bawah rata-rata bergerak, ini bisa menunjukkan potensi pembalikan tren atau periode penurunan."
   ]
  },
  {
   "cell_type": "markdown",
   "metadata": {
    "id": "XQkWdYBuQgV2"
   },
   "source": [
    "Sebelum masuk ke modelling dan traininng, saya mengonversi kolom Date dan Close dari DataFrame menjadi array numpy. Alasannya adalah karena:\n",
    "- Banyak algoritma machine learning atau deep learning dan fungsi di PyTorch memerlukan input dalam bentuk array numpy atau tensor PyTorch. Konversi ini membuat data siap untuk digunakan dalam model.\n",
    "- Operasi pada array numpy biasanya lebih cepat dibandingkan dengan operasi pada kolom DataFrame pandas, terutama untuk operasi numerik yang intensif.\n",
    "Kemudahan Manipulasi Data:\n",
    "- Array numpy memudahkan manipulasi data seperti reshaping, slicing, dan agregasi, yang diperlukan untuk membentuk dataset yang sesuai untuk pelatihan model LSTM.\n"
   ]
  },
  {
   "cell_type": "code",
   "execution_count": 18,
   "metadata": {
    "colab": {
     "base_uri": "https://localhost:8080/"
    },
    "id": "GtQ3PZtQROUy",
    "outputId": "c0691889-1e9c-4cd2-ffe6-61a1626350cc"
   },
   "outputs": [
    {
     "data": {
      "text/plain": [
       "(array(['1997-05-15T00:00:00.000000000', '1997-05-16T00:00:00.000000000',\n",
       "        '1997-05-19T00:00:00.000000000', '1997-05-20T00:00:00.000000000',\n",
       "        '1997-05-21T00:00:00.000000000', '1997-05-22T00:00:00.000000000',\n",
       "        '1997-05-23T00:00:00.000000000', '1997-05-27T00:00:00.000000000',\n",
       "        '1997-05-28T00:00:00.000000000', '1997-05-29T00:00:00.000000000'],\n",
       "       dtype='datetime64[ns]'),\n",
       " array([1.95833337, 1.72916663, 1.70833337, 1.63541663, 1.42708337,\n",
       "        1.39583337, 1.5       , 1.58333337, 1.53125   , 1.50520837]))"
      ]
     },
     "execution_count": 18,
     "metadata": {},
     "output_type": "execute_result"
    }
   ],
   "source": [
    "timesteps_amzn = amzn_df.index.to_numpy()\n",
    "close_amzn = amzn_df[\"Close\"].to_numpy()\n",
    "\n",
    "timesteps_amzn[:10], close_amzn[:10]"
   ]
  },
  {
   "cell_type": "markdown",
   "metadata": {
    "id": "1-15lVUXcMl-"
   },
   "source": [
    "### Windowizing AMZN data"
   ]
  },
  {
   "cell_type": "markdown",
   "metadata": {
    "id": "5k3sEc0uRkYM"
   },
   "source": [
    "Selanjutnya, saya melakukan windowizing dengan ketentuan window_size=5 dan horizon_size=1. Windowizing adalah proses memecah data time series menjadi sekumpulan window data untuk digunakan sebagai input dan output dalam model prediksi. Dalam hal ini, setiap window terdiri dari 5 nilai berturut-turut sebagai input, dan nilai berikutnya sebagai output. Pendekatan ini membantu model belajar dari pola jangka pendek dalam data time series dan membuat prediksi yang lebih akurat."
   ]
  },
  {
   "cell_type": "code",
   "execution_count": 19,
   "metadata": {
    "id": "a2gEcIwGcQTp"
   },
   "outputs": [],
   "source": [
    "def create_dataset(data, window_size=5, horizon_size=1):\n",
    "  x, y = [], []\n",
    "  for i in range(len(data) - window_size - horizon_size + 1):\n",
    "    window = data[i:i + window_size]\n",
    "    horizon = data[i + window_size + horizon_size - 1]\n",
    "    x.append(window)\n",
    "    y.append(horizon)\n",
    "\n",
    "  return np.array(x), np.array(y)"
   ]
  },
  {
   "cell_type": "code",
   "execution_count": 20,
   "metadata": {
    "id": "Q2VgoYPfeCxj"
   },
   "outputs": [],
   "source": [
    "amzn_x, amzn_y = create_dataset(close_amzn)"
   ]
  },
  {
   "cell_type": "code",
   "execution_count": 21,
   "metadata": {
    "colab": {
     "base_uri": "https://localhost:8080/"
    },
    "id": "gWwOm_WEfXBW",
    "outputId": "3316af48-3c9a-4c4f-9da8-25d987f264c5"
   },
   "outputs": [
    {
     "data": {
      "text/plain": [
       "(5753, 5753)"
      ]
     },
     "execution_count": 21,
     "metadata": {},
     "output_type": "execute_result"
    }
   ],
   "source": [
    "len(amzn_x), len(amzn_y)"
   ]
  },
  {
   "cell_type": "markdown",
   "metadata": {
    "id": "xZwD5_QfRsla"
   },
   "source": [
    "Contoh hasil windowizing:"
   ]
  },
  {
   "cell_type": "code",
   "execution_count": 22,
   "metadata": {
    "colab": {
     "base_uri": "https://localhost:8080/"
    },
    "id": "SENoVMoJe7Qz",
    "outputId": "69714e42-1b17-4b0e-f34e-36c5cabbae28"
   },
   "outputs": [
    {
     "name": "stdout",
     "output_type": "stream",
     "text": [
      "Window: [1.95833337 1.72916663 1.70833337 1.63541663 1.42708337] -> Label: 1.3958333730697632\n",
      "Window: [1.72916663 1.70833337 1.63541663 1.42708337 1.39583337] -> Label: 1.5\n",
      "Window: [1.70833337 1.63541663 1.42708337 1.39583337 1.5       ] -> Label: 1.5833333730697632\n"
     ]
    }
   ],
   "source": [
    "for i in range(3):\n",
    "  print(f\"Window: {amzn_x[i]} -> Label: {amzn_y[i]}\")"
   ]
  },
  {
   "cell_type": "markdown",
   "metadata": {
    "id": "LmPd525PRu9v"
   },
   "source": [
    "Check bahwa hasil windowizingnya benar"
   ]
  },
  {
   "cell_type": "code",
   "execution_count": 23,
   "metadata": {
    "colab": {
     "base_uri": "https://localhost:8080/"
    },
    "id": "oF-on_tQf85W",
    "outputId": "456939dc-4a7f-41f0-f509-45b90be9458d"
   },
   "outputs": [
    {
     "data": {
      "text/plain": [
       "array([1.95833337, 1.72916663, 1.70833337, 1.63541663, 1.42708337,\n",
       "       1.39583337])"
      ]
     },
     "execution_count": 23,
     "metadata": {},
     "output_type": "execute_result"
    }
   ],
   "source": [
    "close_amzn[:6]"
   ]
  },
  {
   "cell_type": "code",
   "execution_count": 24,
   "metadata": {
    "colab": {
     "base_uri": "https://localhost:8080/"
    },
    "id": "MBjXux2ngEAk",
    "outputId": "707c48ef-45ac-4190-8cdb-8457caabb15e"
   },
   "outputs": [
    {
     "data": {
      "text/plain": [
       "array([1.72916663, 1.70833337, 1.63541663, 1.42708337, 1.39583337,\n",
       "       1.5       ])"
      ]
     },
     "execution_count": 24,
     "metadata": {},
     "output_type": "execute_result"
    }
   ],
   "source": [
    "close_amzn[1:7]"
   ]
  },
  {
   "cell_type": "code",
   "execution_count": 25,
   "metadata": {
    "colab": {
     "base_uri": "https://localhost:8080/"
    },
    "id": "FNF_mKSUgTTl",
    "outputId": "57b67bef-65c0-4d76-f858-e7821b129054"
   },
   "outputs": [
    {
     "data": {
      "text/plain": [
       "array([1.70833337, 1.63541663, 1.42708337, 1.39583337, 1.5       ,\n",
       "       1.58333337])"
      ]
     },
     "execution_count": 25,
     "metadata": {},
     "output_type": "execute_result"
    }
   ],
   "source": [
    "close_amzn[2:8]"
   ]
  },
  {
   "cell_type": "markdown",
   "metadata": {
    "id": "mx228YLcTZ1W"
   },
   "source": [
    "### Splitting AMZN data"
   ]
  },
  {
   "cell_type": "markdown",
   "metadata": {
    "id": "qi-hpPiCSHxB"
   },
   "source": [
    "Selanjutnya, saya membagi data menjadi tiga set: 80% untuk pelatihan (training), 10% untuk validasi (validation), dan 10% untuk pengujian (test). Dalam data time series, pembagian data harus dilakukan berdasarkan urutan waktu, bukan secara acak (random splitting)."
   ]
  },
  {
   "cell_type": "code",
   "execution_count": 26,
   "metadata": {
    "colab": {
     "base_uri": "https://localhost:8080/"
    },
    "id": "47yDt2EhXmbP",
    "outputId": "615226b7-5b38-43a9-fbc1-9cf3526c416b"
   },
   "outputs": [
    {
     "data": {
      "text/plain": [
       "(4602, 575, 576, 4602, 575, 576)"
      ]
     },
     "execution_count": 26,
     "metadata": {},
     "output_type": "execute_result"
    }
   ],
   "source": [
    "split_size = int(0.8 * len(amzn_x))\n",
    "val_split_size = int(0.1 * len(amzn_x))\n",
    "\n",
    "amzn_x_train, amzn_y_train = amzn_x[:split_size], amzn_y[:split_size]\n",
    "amzn_x_val, amzn_y_val = amzn_x[split_size:split_size + val_split_size], amzn_y[split_size:split_size + val_split_size]\n",
    "amzn_x_test, amzn_y_test = amzn_x[split_size + val_split_size:], amzn_y[split_size + val_split_size:]\n",
    "\n",
    "len(amzn_x_train), len(amzn_x_val), len(amzn_x_test), len(amzn_y_train), len(amzn_y_val), len(amzn_y_test)"
   ]
  },
  {
   "cell_type": "code",
   "execution_count": 27,
   "metadata": {
    "colab": {
     "base_uri": "https://localhost:8080/"
    },
    "id": "APFrsTqOogCU",
    "outputId": "1256dcd6-22b4-4a43-db1d-9f51da4cd075"
   },
   "outputs": [
    {
     "name": "stdout",
     "output_type": "stream",
     "text": [
      "Train data range: 1997-05-21T00:00:00.000000000 to 2015-09-02T00:00:00.000000000\n",
      "Validation data range: 2015-09-03T00:00:00.000000000 to 2017-12-13T00:00:00.000000000\n",
      "Test data range: 2017-12-14T00:00:00.000000000 to 2020-04-01T00:00:00.000000000\n"
     ]
    }
   ],
   "source": [
    "window_size = 5\n",
    "horizon_size = 1\n",
    "dates_adjusted = timesteps_amzn[window_size + horizon_size - 2:]\n",
    "\n",
    "dates_train = dates_adjusted[:split_size]\n",
    "dates_val = dates_adjusted[split_size:split_size + val_split_size]\n",
    "dates_test = dates_adjusted[split_size + val_split_size:]\n",
    "\n",
    "print(\"Train data range: {} to {}\".format(dates_train[0], dates_train[-1]))\n",
    "print(\"Validation data range: {} to {}\".format(dates_val[0], dates_val[-1]))\n",
    "print(\"Test data range: {} to {}\".format(dates_test[0], dates_test[-1]))"
   ]
  },
  {
   "cell_type": "markdown",
   "metadata": {
    "id": "EYgok2qRY35_"
   },
   "source": [
    "### Explore CSCO data"
   ]
  },
  {
   "cell_type": "markdown",
   "metadata": {
    "id": "zegCZproSb8p"
   },
   "source": [
    "Sekarang saya akan explore CSCO data dengan cara yang sama seperti explore AMZN data. Jadi, saya tidak akan menjelasakan setiap proses secara lengkap."
   ]
  },
  {
   "cell_type": "code",
   "execution_count": 28,
   "metadata": {
    "colab": {
     "base_uri": "https://localhost:8080/"
    },
    "id": "e5UdWLrRWgug",
    "outputId": "f6ed51aa-ecf2-4c6c-aca1-1233614e0bda"
   },
   "outputs": [
    {
     "data": {
      "text/plain": [
       "Index(['Date', 'Open', 'High', 'Low', 'Close', 'Adj Close', 'Volume'], dtype='object')"
      ]
     },
     "execution_count": 28,
     "metadata": {},
     "output_type": "execute_result"
    }
   ],
   "source": [
    "csco.columns"
   ]
  },
  {
   "cell_type": "code",
   "execution_count": 29,
   "metadata": {
    "colab": {
     "base_uri": "https://localhost:8080/"
    },
    "id": "X79yWiQMZDIV",
    "outputId": "024289e8-e74f-4a51-ad04-b0c7ee9420be"
   },
   "outputs": [
    {
     "data": {
      "text/plain": [
       "(7589, 7)"
      ]
     },
     "execution_count": 29,
     "metadata": {},
     "output_type": "execute_result"
    }
   ],
   "source": [
    "csco.shape"
   ]
  },
  {
   "cell_type": "markdown",
   "metadata": {
    "id": "K0s9lWzxSp3s"
   },
   "source": [
    "Data CSCO ini memiliki 7589 data dengan 7 variabel"
   ]
  },
  {
   "cell_type": "code",
   "execution_count": 30,
   "metadata": {
    "colab": {
     "base_uri": "https://localhost:8080/"
    },
    "id": "YtqDkLvvZEXa",
    "outputId": "69ff09dc-4c11-491b-aeb8-164610bcf4aa"
   },
   "outputs": [
    {
     "name": "stdout",
     "output_type": "stream",
     "text": [
      "<class 'pandas.core.frame.DataFrame'>\n",
      "RangeIndex: 7589 entries, 0 to 7588\n",
      "Data columns (total 7 columns):\n",
      " #   Column     Non-Null Count  Dtype  \n",
      "---  ------     --------------  -----  \n",
      " 0   Date       7589 non-null   object \n",
      " 1   Open       7589 non-null   float64\n",
      " 2   High       7589 non-null   float64\n",
      " 3   Low        7589 non-null   float64\n",
      " 4   Close      7589 non-null   float64\n",
      " 5   Adj Close  7589 non-null   float64\n",
      " 6   Volume     7589 non-null   int64  \n",
      "dtypes: float64(5), int64(1), object(1)\n",
      "memory usage: 415.1+ KB\n"
     ]
    }
   ],
   "source": [
    "csco.info()"
   ]
  },
  {
   "cell_type": "markdown",
   "metadata": {
    "id": "Q6Obd9jHSx02"
   },
   "source": [
    "Parsing untuk kolom Date."
   ]
  },
  {
   "cell_type": "code",
   "execution_count": 31,
   "metadata": {
    "id": "fWGYDTW9ZGBE"
   },
   "outputs": [],
   "source": [
    "csco_df = pd.read_csv('CSCO.csv',parse_dates=['Date'],index_col=['Date'])"
   ]
  },
  {
   "cell_type": "code",
   "execution_count": 32,
   "metadata": {
    "colab": {
     "base_uri": "https://localhost:8080/",
     "height": 237
    },
    "id": "M_GhK2-sZNCj",
    "outputId": "8375570e-8000-4331-912d-e7f5b6e5e1d4"
   },
   "outputs": [
    {
     "data": {
      "application/vnd.google.colaboratory.intrinsic+json": {
       "summary": "{\n  \"name\": \"csco_df\",\n  \"rows\": 7589,\n  \"fields\": [\n    {\n      \"column\": \"Date\",\n      \"properties\": {\n        \"dtype\": \"date\",\n        \"min\": \"1990-02-16 00:00:00\",\n        \"max\": \"2020-04-01 00:00:00\",\n        \"num_unique_values\": 7589,\n        \"samples\": [\n          \"2010-08-13 00:00:00\",\n          \"2014-07-01 00:00:00\",\n          \"1996-12-31 00:00:00\"\n        ],\n        \"semantic_type\": \"\",\n        \"description\": \"\"\n      }\n    },\n    {\n      \"column\": \"Open\",\n      \"properties\": {\n        \"dtype\": \"number\",\n        \"std\": 14.915391881036596,\n        \"min\": 0.0,\n        \"max\": 81.4375,\n        \"num_unique_values\": 3784,\n        \"samples\": [\n          14.949999809265137,\n          28.780000686645508,\n          25.6875\n        ],\n        \"semantic_type\": \"\",\n        \"description\": \"\"\n      }\n    },\n    {\n      \"column\": \"High\",\n      \"properties\": {\n        \"dtype\": \"number\",\n        \"std\": 15.133190873152726,\n        \"min\": 0.0729166641831398,\n        \"max\": 82.0,\n        \"num_unique_values\": 3784,\n        \"samples\": [\n          31.4375,\n          28.459999084472656,\n          42.9375\n        ],\n        \"semantic_type\": \"\",\n        \"description\": \"\"\n      }\n    },\n    {\n      \"column\": \"Low\",\n      \"properties\": {\n        \"dtype\": \"number\",\n        \"std\": 14.67614924535913,\n        \"min\": 0.0685763880610466,\n        \"max\": 79.0625,\n        \"num_unique_values\": 3777,\n        \"samples\": [\n          43.7599983215332,\n          11.6875,\n          28.780000686645508\n        ],\n        \"semantic_type\": \"\",\n        \"description\": \"\"\n      }\n    },\n    {\n      \"column\": \"Close\",\n      \"properties\": {\n        \"dtype\": \"number\",\n        \"std\": 14.906588838340815,\n        \"min\": 0.0711805522441864,\n        \"max\": 80.0625,\n        \"num_unique_values\": 3943,\n        \"samples\": [\n          47.2599983215332,\n          16.139999389648438,\n          12.229999542236328\n        ],\n        \"semantic_type\": \"\",\n        \"description\": \"\"\n      }\n    },\n    {\n      \"column\": \"Adj Close\",\n      \"properties\": {\n        \"dtype\": \"number\",\n        \"std\": 13.253296941357844,\n        \"min\": 0.0551018938422203,\n        \"max\": 61.977535247802734,\n        \"num_unique_values\": 5022,\n        \"samples\": [\n          38.68153762817383,\n          1.599299073219299,\n          19.03993034362793\n        ],\n        \"semantic_type\": \"\",\n        \"description\": \"\"\n      }\n    },\n    {\n      \"column\": \"Volume\",\n      \"properties\": {\n        \"dtype\": \"number\",\n        \"std\": 41687268,\n        \"min\": 806400,\n        \"max\": 940636800,\n        \"num_unique_values\": 7518,\n        \"samples\": [\n          26070000,\n          27006700,\n          52465900\n        ],\n        \"semantic_type\": \"\",\n        \"description\": \"\"\n      }\n    }\n  ]\n}",
       "type": "dataframe",
       "variable_name": "csco_df"
      },
      "text/html": [
       "\n",
       "  <div id=\"df-26064833-c55d-47b5-a7ca-abb44a54b4c3\" class=\"colab-df-container\">\n",
       "    <div>\n",
       "<style scoped>\n",
       "    .dataframe tbody tr th:only-of-type {\n",
       "        vertical-align: middle;\n",
       "    }\n",
       "\n",
       "    .dataframe tbody tr th {\n",
       "        vertical-align: top;\n",
       "    }\n",
       "\n",
       "    .dataframe thead th {\n",
       "        text-align: right;\n",
       "    }\n",
       "</style>\n",
       "<table border=\"1\" class=\"dataframe\">\n",
       "  <thead>\n",
       "    <tr style=\"text-align: right;\">\n",
       "      <th></th>\n",
       "      <th>Open</th>\n",
       "      <th>High</th>\n",
       "      <th>Low</th>\n",
       "      <th>Close</th>\n",
       "      <th>Adj Close</th>\n",
       "      <th>Volume</th>\n",
       "    </tr>\n",
       "    <tr>\n",
       "      <th>Date</th>\n",
       "      <th></th>\n",
       "      <th></th>\n",
       "      <th></th>\n",
       "      <th></th>\n",
       "      <th></th>\n",
       "      <th></th>\n",
       "    </tr>\n",
       "  </thead>\n",
       "  <tbody>\n",
       "    <tr>\n",
       "      <th>1990-02-16</th>\n",
       "      <td>0.0</td>\n",
       "      <td>0.079861</td>\n",
       "      <td>0.073785</td>\n",
       "      <td>0.077257</td>\n",
       "      <td>0.059806</td>\n",
       "      <td>940636800</td>\n",
       "    </tr>\n",
       "    <tr>\n",
       "      <th>1990-02-20</th>\n",
       "      <td>0.0</td>\n",
       "      <td>0.079861</td>\n",
       "      <td>0.074653</td>\n",
       "      <td>0.079861</td>\n",
       "      <td>0.061822</td>\n",
       "      <td>151862400</td>\n",
       "    </tr>\n",
       "    <tr>\n",
       "      <th>1990-02-21</th>\n",
       "      <td>0.0</td>\n",
       "      <td>0.078993</td>\n",
       "      <td>0.075521</td>\n",
       "      <td>0.078125</td>\n",
       "      <td>0.060478</td>\n",
       "      <td>70531200</td>\n",
       "    </tr>\n",
       "    <tr>\n",
       "      <th>1990-02-22</th>\n",
       "      <td>0.0</td>\n",
       "      <td>0.081597</td>\n",
       "      <td>0.078993</td>\n",
       "      <td>0.078993</td>\n",
       "      <td>0.061150</td>\n",
       "      <td>45216000</td>\n",
       "    </tr>\n",
       "    <tr>\n",
       "      <th>1990-02-23</th>\n",
       "      <td>0.0</td>\n",
       "      <td>0.079861</td>\n",
       "      <td>0.078125</td>\n",
       "      <td>0.078559</td>\n",
       "      <td>0.060814</td>\n",
       "      <td>44697600</td>\n",
       "    </tr>\n",
       "  </tbody>\n",
       "</table>\n",
       "</div>\n",
       "    <div class=\"colab-df-buttons\">\n",
       "\n",
       "  <div class=\"colab-df-container\">\n",
       "    <button class=\"colab-df-convert\" onclick=\"convertToInteractive('df-26064833-c55d-47b5-a7ca-abb44a54b4c3')\"\n",
       "            title=\"Convert this dataframe to an interactive table.\"\n",
       "            style=\"display:none;\">\n",
       "\n",
       "  <svg xmlns=\"http://www.w3.org/2000/svg\" height=\"24px\" viewBox=\"0 -960 960 960\">\n",
       "    <path d=\"M120-120v-720h720v720H120Zm60-500h600v-160H180v160Zm220 220h160v-160H400v160Zm0 220h160v-160H400v160ZM180-400h160v-160H180v160Zm440 0h160v-160H620v160ZM180-180h160v-160H180v160Zm440 0h160v-160H620v160Z\"/>\n",
       "  </svg>\n",
       "    </button>\n",
       "\n",
       "  <style>\n",
       "    .colab-df-container {\n",
       "      display:flex;\n",
       "      gap: 12px;\n",
       "    }\n",
       "\n",
       "    .colab-df-convert {\n",
       "      background-color: #E8F0FE;\n",
       "      border: none;\n",
       "      border-radius: 50%;\n",
       "      cursor: pointer;\n",
       "      display: none;\n",
       "      fill: #1967D2;\n",
       "      height: 32px;\n",
       "      padding: 0 0 0 0;\n",
       "      width: 32px;\n",
       "    }\n",
       "\n",
       "    .colab-df-convert:hover {\n",
       "      background-color: #E2EBFA;\n",
       "      box-shadow: 0px 1px 2px rgba(60, 64, 67, 0.3), 0px 1px 3px 1px rgba(60, 64, 67, 0.15);\n",
       "      fill: #174EA6;\n",
       "    }\n",
       "\n",
       "    .colab-df-buttons div {\n",
       "      margin-bottom: 4px;\n",
       "    }\n",
       "\n",
       "    [theme=dark] .colab-df-convert {\n",
       "      background-color: #3B4455;\n",
       "      fill: #D2E3FC;\n",
       "    }\n",
       "\n",
       "    [theme=dark] .colab-df-convert:hover {\n",
       "      background-color: #434B5C;\n",
       "      box-shadow: 0px 1px 3px 1px rgba(0, 0, 0, 0.15);\n",
       "      filter: drop-shadow(0px 1px 2px rgba(0, 0, 0, 0.3));\n",
       "      fill: #FFFFFF;\n",
       "    }\n",
       "  </style>\n",
       "\n",
       "    <script>\n",
       "      const buttonEl =\n",
       "        document.querySelector('#df-26064833-c55d-47b5-a7ca-abb44a54b4c3 button.colab-df-convert');\n",
       "      buttonEl.style.display =\n",
       "        google.colab.kernel.accessAllowed ? 'block' : 'none';\n",
       "\n",
       "      async function convertToInteractive(key) {\n",
       "        const element = document.querySelector('#df-26064833-c55d-47b5-a7ca-abb44a54b4c3');\n",
       "        const dataTable =\n",
       "          await google.colab.kernel.invokeFunction('convertToInteractive',\n",
       "                                                    [key], {});\n",
       "        if (!dataTable) return;\n",
       "\n",
       "        const docLinkHtml = 'Like what you see? Visit the ' +\n",
       "          '<a target=\"_blank\" href=https://colab.research.google.com/notebooks/data_table.ipynb>data table notebook</a>'\n",
       "          + ' to learn more about interactive tables.';\n",
       "        element.innerHTML = '';\n",
       "        dataTable['output_type'] = 'display_data';\n",
       "        await google.colab.output.renderOutput(dataTable, element);\n",
       "        const docLink = document.createElement('div');\n",
       "        docLink.innerHTML = docLinkHtml;\n",
       "        element.appendChild(docLink);\n",
       "      }\n",
       "    </script>\n",
       "  </div>\n",
       "\n",
       "\n",
       "<div id=\"df-2a2f347a-074d-4a9e-8392-3cf199c725d8\">\n",
       "  <button class=\"colab-df-quickchart\" onclick=\"quickchart('df-2a2f347a-074d-4a9e-8392-3cf199c725d8')\"\n",
       "            title=\"Suggest charts\"\n",
       "            style=\"display:none;\">\n",
       "\n",
       "<svg xmlns=\"http://www.w3.org/2000/svg\" height=\"24px\"viewBox=\"0 0 24 24\"\n",
       "     width=\"24px\">\n",
       "    <g>\n",
       "        <path d=\"M19 3H5c-1.1 0-2 .9-2 2v14c0 1.1.9 2 2 2h14c1.1 0 2-.9 2-2V5c0-1.1-.9-2-2-2zM9 17H7v-7h2v7zm4 0h-2V7h2v10zm4 0h-2v-4h2v4z\"/>\n",
       "    </g>\n",
       "</svg>\n",
       "  </button>\n",
       "\n",
       "<style>\n",
       "  .colab-df-quickchart {\n",
       "      --bg-color: #E8F0FE;\n",
       "      --fill-color: #1967D2;\n",
       "      --hover-bg-color: #E2EBFA;\n",
       "      --hover-fill-color: #174EA6;\n",
       "      --disabled-fill-color: #AAA;\n",
       "      --disabled-bg-color: #DDD;\n",
       "  }\n",
       "\n",
       "  [theme=dark] .colab-df-quickchart {\n",
       "      --bg-color: #3B4455;\n",
       "      --fill-color: #D2E3FC;\n",
       "      --hover-bg-color: #434B5C;\n",
       "      --hover-fill-color: #FFFFFF;\n",
       "      --disabled-bg-color: #3B4455;\n",
       "      --disabled-fill-color: #666;\n",
       "  }\n",
       "\n",
       "  .colab-df-quickchart {\n",
       "    background-color: var(--bg-color);\n",
       "    border: none;\n",
       "    border-radius: 50%;\n",
       "    cursor: pointer;\n",
       "    display: none;\n",
       "    fill: var(--fill-color);\n",
       "    height: 32px;\n",
       "    padding: 0;\n",
       "    width: 32px;\n",
       "  }\n",
       "\n",
       "  .colab-df-quickchart:hover {\n",
       "    background-color: var(--hover-bg-color);\n",
       "    box-shadow: 0 1px 2px rgba(60, 64, 67, 0.3), 0 1px 3px 1px rgba(60, 64, 67, 0.15);\n",
       "    fill: var(--button-hover-fill-color);\n",
       "  }\n",
       "\n",
       "  .colab-df-quickchart-complete:disabled,\n",
       "  .colab-df-quickchart-complete:disabled:hover {\n",
       "    background-color: var(--disabled-bg-color);\n",
       "    fill: var(--disabled-fill-color);\n",
       "    box-shadow: none;\n",
       "  }\n",
       "\n",
       "  .colab-df-spinner {\n",
       "    border: 2px solid var(--fill-color);\n",
       "    border-color: transparent;\n",
       "    border-bottom-color: var(--fill-color);\n",
       "    animation:\n",
       "      spin 1s steps(1) infinite;\n",
       "  }\n",
       "\n",
       "  @keyframes spin {\n",
       "    0% {\n",
       "      border-color: transparent;\n",
       "      border-bottom-color: var(--fill-color);\n",
       "      border-left-color: var(--fill-color);\n",
       "    }\n",
       "    20% {\n",
       "      border-color: transparent;\n",
       "      border-left-color: var(--fill-color);\n",
       "      border-top-color: var(--fill-color);\n",
       "    }\n",
       "    30% {\n",
       "      border-color: transparent;\n",
       "      border-left-color: var(--fill-color);\n",
       "      border-top-color: var(--fill-color);\n",
       "      border-right-color: var(--fill-color);\n",
       "    }\n",
       "    40% {\n",
       "      border-color: transparent;\n",
       "      border-right-color: var(--fill-color);\n",
       "      border-top-color: var(--fill-color);\n",
       "    }\n",
       "    60% {\n",
       "      border-color: transparent;\n",
       "      border-right-color: var(--fill-color);\n",
       "    }\n",
       "    80% {\n",
       "      border-color: transparent;\n",
       "      border-right-color: var(--fill-color);\n",
       "      border-bottom-color: var(--fill-color);\n",
       "    }\n",
       "    90% {\n",
       "      border-color: transparent;\n",
       "      border-bottom-color: var(--fill-color);\n",
       "    }\n",
       "  }\n",
       "</style>\n",
       "\n",
       "  <script>\n",
       "    async function quickchart(key) {\n",
       "      const quickchartButtonEl =\n",
       "        document.querySelector('#' + key + ' button');\n",
       "      quickchartButtonEl.disabled = true;  // To prevent multiple clicks.\n",
       "      quickchartButtonEl.classList.add('colab-df-spinner');\n",
       "      try {\n",
       "        const charts = await google.colab.kernel.invokeFunction(\n",
       "            'suggestCharts', [key], {});\n",
       "      } catch (error) {\n",
       "        console.error('Error during call to suggestCharts:', error);\n",
       "      }\n",
       "      quickchartButtonEl.classList.remove('colab-df-spinner');\n",
       "      quickchartButtonEl.classList.add('colab-df-quickchart-complete');\n",
       "    }\n",
       "    (() => {\n",
       "      let quickchartButtonEl =\n",
       "        document.querySelector('#df-2a2f347a-074d-4a9e-8392-3cf199c725d8 button');\n",
       "      quickchartButtonEl.style.display =\n",
       "        google.colab.kernel.accessAllowed ? 'block' : 'none';\n",
       "    })();\n",
       "  </script>\n",
       "</div>\n",
       "\n",
       "    </div>\n",
       "  </div>\n"
      ],
      "text/plain": [
       "            Open      High       Low     Close  Adj Close     Volume\n",
       "Date                                                                \n",
       "1990-02-16   0.0  0.079861  0.073785  0.077257   0.059806  940636800\n",
       "1990-02-20   0.0  0.079861  0.074653  0.079861   0.061822  151862400\n",
       "1990-02-21   0.0  0.078993  0.075521  0.078125   0.060478   70531200\n",
       "1990-02-22   0.0  0.081597  0.078993  0.078993   0.061150   45216000\n",
       "1990-02-23   0.0  0.079861  0.078125  0.078559   0.060814   44697600"
      ]
     },
     "execution_count": 32,
     "metadata": {},
     "output_type": "execute_result"
    }
   ],
   "source": [
    "csco_df.head()"
   ]
  },
  {
   "cell_type": "code",
   "execution_count": 33,
   "metadata": {
    "id": "C9C6kBbhZSc_"
   },
   "outputs": [],
   "source": [
    "csco_df = pd.DataFrame(csco_df['Close'])"
   ]
  },
  {
   "cell_type": "code",
   "execution_count": 34,
   "metadata": {
    "colab": {
     "base_uri": "https://localhost:8080/",
     "height": 237
    },
    "id": "Fzi9OCrCZVl5",
    "outputId": "8640d344-de7e-4eb2-c7b8-8fd3c733485a"
   },
   "outputs": [
    {
     "data": {
      "application/vnd.google.colaboratory.intrinsic+json": {
       "summary": "{\n  \"name\": \"csco_df\",\n  \"rows\": 7589,\n  \"fields\": [\n    {\n      \"column\": \"Date\",\n      \"properties\": {\n        \"dtype\": \"date\",\n        \"min\": \"1990-02-16 00:00:00\",\n        \"max\": \"2020-04-01 00:00:00\",\n        \"num_unique_values\": 7589,\n        \"samples\": [\n          \"2010-08-13 00:00:00\",\n          \"2014-07-01 00:00:00\",\n          \"1996-12-31 00:00:00\"\n        ],\n        \"semantic_type\": \"\",\n        \"description\": \"\"\n      }\n    },\n    {\n      \"column\": \"Close\",\n      \"properties\": {\n        \"dtype\": \"number\",\n        \"std\": 14.906588838340815,\n        \"min\": 0.0711805522441864,\n        \"max\": 80.0625,\n        \"num_unique_values\": 3943,\n        \"samples\": [\n          47.2599983215332,\n          16.139999389648438,\n          12.229999542236328\n        ],\n        \"semantic_type\": \"\",\n        \"description\": \"\"\n      }\n    }\n  ]\n}",
       "type": "dataframe",
       "variable_name": "csco_df"
      },
      "text/html": [
       "\n",
       "  <div id=\"df-c330cc98-7d86-4272-8592-bf4933e94a65\" class=\"colab-df-container\">\n",
       "    <div>\n",
       "<style scoped>\n",
       "    .dataframe tbody tr th:only-of-type {\n",
       "        vertical-align: middle;\n",
       "    }\n",
       "\n",
       "    .dataframe tbody tr th {\n",
       "        vertical-align: top;\n",
       "    }\n",
       "\n",
       "    .dataframe thead th {\n",
       "        text-align: right;\n",
       "    }\n",
       "</style>\n",
       "<table border=\"1\" class=\"dataframe\">\n",
       "  <thead>\n",
       "    <tr style=\"text-align: right;\">\n",
       "      <th></th>\n",
       "      <th>Close</th>\n",
       "    </tr>\n",
       "    <tr>\n",
       "      <th>Date</th>\n",
       "      <th></th>\n",
       "    </tr>\n",
       "  </thead>\n",
       "  <tbody>\n",
       "    <tr>\n",
       "      <th>1990-02-16</th>\n",
       "      <td>0.077257</td>\n",
       "    </tr>\n",
       "    <tr>\n",
       "      <th>1990-02-20</th>\n",
       "      <td>0.079861</td>\n",
       "    </tr>\n",
       "    <tr>\n",
       "      <th>1990-02-21</th>\n",
       "      <td>0.078125</td>\n",
       "    </tr>\n",
       "    <tr>\n",
       "      <th>1990-02-22</th>\n",
       "      <td>0.078993</td>\n",
       "    </tr>\n",
       "    <tr>\n",
       "      <th>1990-02-23</th>\n",
       "      <td>0.078559</td>\n",
       "    </tr>\n",
       "  </tbody>\n",
       "</table>\n",
       "</div>\n",
       "    <div class=\"colab-df-buttons\">\n",
       "\n",
       "  <div class=\"colab-df-container\">\n",
       "    <button class=\"colab-df-convert\" onclick=\"convertToInteractive('df-c330cc98-7d86-4272-8592-bf4933e94a65')\"\n",
       "            title=\"Convert this dataframe to an interactive table.\"\n",
       "            style=\"display:none;\">\n",
       "\n",
       "  <svg xmlns=\"http://www.w3.org/2000/svg\" height=\"24px\" viewBox=\"0 -960 960 960\">\n",
       "    <path d=\"M120-120v-720h720v720H120Zm60-500h600v-160H180v160Zm220 220h160v-160H400v160Zm0 220h160v-160H400v160ZM180-400h160v-160H180v160Zm440 0h160v-160H620v160ZM180-180h160v-160H180v160Zm440 0h160v-160H620v160Z\"/>\n",
       "  </svg>\n",
       "    </button>\n",
       "\n",
       "  <style>\n",
       "    .colab-df-container {\n",
       "      display:flex;\n",
       "      gap: 12px;\n",
       "    }\n",
       "\n",
       "    .colab-df-convert {\n",
       "      background-color: #E8F0FE;\n",
       "      border: none;\n",
       "      border-radius: 50%;\n",
       "      cursor: pointer;\n",
       "      display: none;\n",
       "      fill: #1967D2;\n",
       "      height: 32px;\n",
       "      padding: 0 0 0 0;\n",
       "      width: 32px;\n",
       "    }\n",
       "\n",
       "    .colab-df-convert:hover {\n",
       "      background-color: #E2EBFA;\n",
       "      box-shadow: 0px 1px 2px rgba(60, 64, 67, 0.3), 0px 1px 3px 1px rgba(60, 64, 67, 0.15);\n",
       "      fill: #174EA6;\n",
       "    }\n",
       "\n",
       "    .colab-df-buttons div {\n",
       "      margin-bottom: 4px;\n",
       "    }\n",
       "\n",
       "    [theme=dark] .colab-df-convert {\n",
       "      background-color: #3B4455;\n",
       "      fill: #D2E3FC;\n",
       "    }\n",
       "\n",
       "    [theme=dark] .colab-df-convert:hover {\n",
       "      background-color: #434B5C;\n",
       "      box-shadow: 0px 1px 3px 1px rgba(0, 0, 0, 0.15);\n",
       "      filter: drop-shadow(0px 1px 2px rgba(0, 0, 0, 0.3));\n",
       "      fill: #FFFFFF;\n",
       "    }\n",
       "  </style>\n",
       "\n",
       "    <script>\n",
       "      const buttonEl =\n",
       "        document.querySelector('#df-c330cc98-7d86-4272-8592-bf4933e94a65 button.colab-df-convert');\n",
       "      buttonEl.style.display =\n",
       "        google.colab.kernel.accessAllowed ? 'block' : 'none';\n",
       "\n",
       "      async function convertToInteractive(key) {\n",
       "        const element = document.querySelector('#df-c330cc98-7d86-4272-8592-bf4933e94a65');\n",
       "        const dataTable =\n",
       "          await google.colab.kernel.invokeFunction('convertToInteractive',\n",
       "                                                    [key], {});\n",
       "        if (!dataTable) return;\n",
       "\n",
       "        const docLinkHtml = 'Like what you see? Visit the ' +\n",
       "          '<a target=\"_blank\" href=https://colab.research.google.com/notebooks/data_table.ipynb>data table notebook</a>'\n",
       "          + ' to learn more about interactive tables.';\n",
       "        element.innerHTML = '';\n",
       "        dataTable['output_type'] = 'display_data';\n",
       "        await google.colab.output.renderOutput(dataTable, element);\n",
       "        const docLink = document.createElement('div');\n",
       "        docLink.innerHTML = docLinkHtml;\n",
       "        element.appendChild(docLink);\n",
       "      }\n",
       "    </script>\n",
       "  </div>\n",
       "\n",
       "\n",
       "<div id=\"df-720cf5a9-34f1-467b-8d83-14ddd1507587\">\n",
       "  <button class=\"colab-df-quickchart\" onclick=\"quickchart('df-720cf5a9-34f1-467b-8d83-14ddd1507587')\"\n",
       "            title=\"Suggest charts\"\n",
       "            style=\"display:none;\">\n",
       "\n",
       "<svg xmlns=\"http://www.w3.org/2000/svg\" height=\"24px\"viewBox=\"0 0 24 24\"\n",
       "     width=\"24px\">\n",
       "    <g>\n",
       "        <path d=\"M19 3H5c-1.1 0-2 .9-2 2v14c0 1.1.9 2 2 2h14c1.1 0 2-.9 2-2V5c0-1.1-.9-2-2-2zM9 17H7v-7h2v7zm4 0h-2V7h2v10zm4 0h-2v-4h2v4z\"/>\n",
       "    </g>\n",
       "</svg>\n",
       "  </button>\n",
       "\n",
       "<style>\n",
       "  .colab-df-quickchart {\n",
       "      --bg-color: #E8F0FE;\n",
       "      --fill-color: #1967D2;\n",
       "      --hover-bg-color: #E2EBFA;\n",
       "      --hover-fill-color: #174EA6;\n",
       "      --disabled-fill-color: #AAA;\n",
       "      --disabled-bg-color: #DDD;\n",
       "  }\n",
       "\n",
       "  [theme=dark] .colab-df-quickchart {\n",
       "      --bg-color: #3B4455;\n",
       "      --fill-color: #D2E3FC;\n",
       "      --hover-bg-color: #434B5C;\n",
       "      --hover-fill-color: #FFFFFF;\n",
       "      --disabled-bg-color: #3B4455;\n",
       "      --disabled-fill-color: #666;\n",
       "  }\n",
       "\n",
       "  .colab-df-quickchart {\n",
       "    background-color: var(--bg-color);\n",
       "    border: none;\n",
       "    border-radius: 50%;\n",
       "    cursor: pointer;\n",
       "    display: none;\n",
       "    fill: var(--fill-color);\n",
       "    height: 32px;\n",
       "    padding: 0;\n",
       "    width: 32px;\n",
       "  }\n",
       "\n",
       "  .colab-df-quickchart:hover {\n",
       "    background-color: var(--hover-bg-color);\n",
       "    box-shadow: 0 1px 2px rgba(60, 64, 67, 0.3), 0 1px 3px 1px rgba(60, 64, 67, 0.15);\n",
       "    fill: var(--button-hover-fill-color);\n",
       "  }\n",
       "\n",
       "  .colab-df-quickchart-complete:disabled,\n",
       "  .colab-df-quickchart-complete:disabled:hover {\n",
       "    background-color: var(--disabled-bg-color);\n",
       "    fill: var(--disabled-fill-color);\n",
       "    box-shadow: none;\n",
       "  }\n",
       "\n",
       "  .colab-df-spinner {\n",
       "    border: 2px solid var(--fill-color);\n",
       "    border-color: transparent;\n",
       "    border-bottom-color: var(--fill-color);\n",
       "    animation:\n",
       "      spin 1s steps(1) infinite;\n",
       "  }\n",
       "\n",
       "  @keyframes spin {\n",
       "    0% {\n",
       "      border-color: transparent;\n",
       "      border-bottom-color: var(--fill-color);\n",
       "      border-left-color: var(--fill-color);\n",
       "    }\n",
       "    20% {\n",
       "      border-color: transparent;\n",
       "      border-left-color: var(--fill-color);\n",
       "      border-top-color: var(--fill-color);\n",
       "    }\n",
       "    30% {\n",
       "      border-color: transparent;\n",
       "      border-left-color: var(--fill-color);\n",
       "      border-top-color: var(--fill-color);\n",
       "      border-right-color: var(--fill-color);\n",
       "    }\n",
       "    40% {\n",
       "      border-color: transparent;\n",
       "      border-right-color: var(--fill-color);\n",
       "      border-top-color: var(--fill-color);\n",
       "    }\n",
       "    60% {\n",
       "      border-color: transparent;\n",
       "      border-right-color: var(--fill-color);\n",
       "    }\n",
       "    80% {\n",
       "      border-color: transparent;\n",
       "      border-right-color: var(--fill-color);\n",
       "      border-bottom-color: var(--fill-color);\n",
       "    }\n",
       "    90% {\n",
       "      border-color: transparent;\n",
       "      border-bottom-color: var(--fill-color);\n",
       "    }\n",
       "  }\n",
       "</style>\n",
       "\n",
       "  <script>\n",
       "    async function quickchart(key) {\n",
       "      const quickchartButtonEl =\n",
       "        document.querySelector('#' + key + ' button');\n",
       "      quickchartButtonEl.disabled = true;  // To prevent multiple clicks.\n",
       "      quickchartButtonEl.classList.add('colab-df-spinner');\n",
       "      try {\n",
       "        const charts = await google.colab.kernel.invokeFunction(\n",
       "            'suggestCharts', [key], {});\n",
       "      } catch (error) {\n",
       "        console.error('Error during call to suggestCharts:', error);\n",
       "      }\n",
       "      quickchartButtonEl.classList.remove('colab-df-spinner');\n",
       "      quickchartButtonEl.classList.add('colab-df-quickchart-complete');\n",
       "    }\n",
       "    (() => {\n",
       "      let quickchartButtonEl =\n",
       "        document.querySelector('#df-720cf5a9-34f1-467b-8d83-14ddd1507587 button');\n",
       "      quickchartButtonEl.style.display =\n",
       "        google.colab.kernel.accessAllowed ? 'block' : 'none';\n",
       "    })();\n",
       "  </script>\n",
       "</div>\n",
       "\n",
       "    </div>\n",
       "  </div>\n"
      ],
      "text/plain": [
       "               Close\n",
       "Date                \n",
       "1990-02-16  0.077257\n",
       "1990-02-20  0.079861\n",
       "1990-02-21  0.078125\n",
       "1990-02-22  0.078993\n",
       "1990-02-23  0.078559"
      ]
     },
     "execution_count": 34,
     "metadata": {},
     "output_type": "execute_result"
    }
   ],
   "source": [
    "csco_df.head()"
   ]
  },
  {
   "cell_type": "code",
   "execution_count": 35,
   "metadata": {
    "colab": {
     "base_uri": "https://localhost:8080/"
    },
    "id": "HLPGTuyo1IYC",
    "outputId": "f8d20935-727f-4562-bee0-f70b9f879f50"
   },
   "outputs": [
    {
     "name": "stdout",
     "output_type": "stream",
     "text": [
      "             Close\n",
      "count  7589.000000\n",
      "mean     20.399541\n",
      "std      14.906589\n",
      "min       0.071181\n",
      "25%       8.479167\n",
      "50%      19.680000\n",
      "75%      27.120001\n",
      "max      80.062500\n"
     ]
    }
   ],
   "source": [
    "print(csco_df.describe())"
   ]
  },
  {
   "cell_type": "code",
   "execution_count": 36,
   "metadata": {
    "colab": {
     "base_uri": "https://localhost:8080/"
    },
    "id": "kZIjAD2x1HlA",
    "outputId": "f4e5d07a-31f1-4ede-83d9-2507187a36a5"
   },
   "outputs": [
    {
     "name": "stdout",
     "output_type": "stream",
     "text": [
      "Missing values:\n",
      "Close    0\n",
      "dtype: int64\n"
     ]
    }
   ],
   "source": [
    "csco_missing_values = csco_df.isnull().sum()\n",
    "print(f\"Missing values:\\n{csco_missing_values}\")"
   ]
  },
  {
   "cell_type": "markdown",
   "metadata": {
    "id": "hBXzH6tUTDsF"
   },
   "source": [
    "Dataset CSCO ini tidak memiliki missing values."
   ]
  },
  {
   "cell_type": "code",
   "execution_count": 37,
   "metadata": {
    "colab": {
     "base_uri": "https://localhost:8080/"
    },
    "id": "18s0n28W1S99",
    "outputId": "7f562683-49a8-45d4-9b4f-8d51b4c3b36f"
   },
   "outputs": [
    {
     "name": "stdout",
     "output_type": "stream",
     "text": [
      "Start Date: 1997-05-15 00:00:00, End Date: 2020-04-01 00:00:00\n"
     ]
    }
   ],
   "source": [
    "csco_start_date = amzn_df.index.min()\n",
    "csco_end_date = amzn_df.index.max()\n",
    "print(f\"Start Date: {csco_start_date}, End Date: {csco_end_date}\")"
   ]
  },
  {
   "cell_type": "markdown",
   "metadata": {
    "id": "YAN8Xv01S_EL"
   },
   "source": [
    "Dataset mencakup periode waktu yang cukup panjang, mulai dari 15 Mei 1997 hingga 1 April 2020."
   ]
  },
  {
   "cell_type": "code",
   "execution_count": 38,
   "metadata": {
    "colab": {
     "base_uri": "https://localhost:8080/",
     "height": 463
    },
    "id": "zjW1UcxtZYEn",
    "outputId": "99f0c260-7307-4868-8540-c84a5e48c3ad"
   },
   "outputs": [
    {
     "data": {
      "text/plain": [
       "<matplotlib.legend.Legend at 0x7a3f4b1d2080>"
      ]
     },
     "execution_count": 38,
     "metadata": {},
     "output_type": "execute_result"
    },
    {
     "data": {
      "image/png": "[encoded data removed]",
      "text/plain": [
       "<Figure size 640x480 with 1 Axes>"
      ]
     },
     "metadata": {},
     "output_type": "display_data"
    }
   ],
   "source": [
    "csco_df.plot()\n",
    "plt.ylabel(\"Close Price\")\n",
    "plt.title(\"CSCO Closing Prices\", fontsize=16)\n",
    "plt.legend()"
   ]
  },
  {
   "cell_type": "markdown",
   "metadata": {
    "id": "YtRX7ZGfTS2_"
   },
   "source": [
    "Plot di atas menampilkan harga penutupan saham Cisco Systems, Inc. (CSCO) dari awal periode yang tersedia hingga 2020.\n",
    "\n",
    "1. Tren Jangka Panjang:\n",
    "- Harga penutupan saham Cisco menunjukkan peningkatan yang signifikan hingga puncaknya sekitar tahun 2000.\n",
    "Setelah tahun 2000, terdapat penurunan tajam yang kemungkinan disebabkan oleh gelembung dot-com.\n",
    "\n",
    "2. Volatilitas:\n",
    "- Terlihat volatilitas tinggi sekitar tahun 2000, yang diikuti oleh periode volatilitas yang lebih rendah tetapi tetap signifikan.\n",
    "Harga saham tampaknya lebih stabil setelah tahun 2004, tetapi masih menunjukkan fluktuasi yang cukup besar.\n",
    "\n",
    "3. Pertumbuhan Kembali:\n",
    "- Setelah penurunan awal 2000-an, harga saham Cisco mengalami pertumbuhan kembali, terutama terlihat dari 2010 hingga 2020."
   ]
  },
  {
   "cell_type": "code",
   "execution_count": 39,
   "metadata": {
    "colab": {
     "base_uri": "https://localhost:8080/",
     "height": 444
    },
    "id": "EmVQ3Ceq1edd",
    "outputId": "509654ca-0eb2-4fe1-c942-234e7ad38478"
   },
   "outputs": [
    {
     "data": {
      "image/png": "[encoded data removed]",
      "text/plain": [
       "<Figure size 640x480 with 1 Axes>"
      ]
     },
     "metadata": {},
     "output_type": "display_data"
    }
   ],
   "source": [
    "csco_df['Daily Change'] = csco_df['Close'].diff()\n",
    "csco_df['Daily Change'].plot(color='red')\n",
    "plt.xlabel('Date')\n",
    "plt.ylabel('Daily Change')\n",
    "plt.title('CSCO Daily Price Change')\n",
    "plt.show()"
   ]
  },
  {
   "cell_type": "markdown",
   "metadata": {
    "id": "wbfslpWHTi9v"
   },
   "source": [
    "Plot di atas menampilkan perubahan harga harian saham Cisco Systems, Inc. (CSCO) dari awal periode yang tersedia hingga 2020.\n",
    "\n",
    "1. Tren Perubahan Harian:\n",
    "- Pada awal periode, perubahan harga harian relatif kecil dan stabil.\n",
    "Sekitar tahun 2000, terjadi peningkatan volatilitas dengan perubahan harga harian yang sangat signifikan, baik naik maupun turun. Ini mungkin terkait dengan gelembung dot-com.\n",
    "\n",
    "2. Volatilitas:\n",
    "- Setelah tahun 2000, volatilitas tetap tinggi selama beberapa tahun tetapi mulai stabil setelah 2004.\n",
    "Perubahan harga harian tetap cukup fluktuatif hingga 2020, menunjukkan bahwa saham Cisco masih mengalami volatilitas yang signifikan.\n",
    "\n",
    "3. Perubahan Ekstrem:\n",
    "- Ada beberapa puncak dan lembah tajam yang menunjukkan perubahan harga yang sangat besar dalam satu hari. Ini bisa terjadi karena berbagai faktor seperti laporan pendapatan, berita besar, atau peristiwa pasar."
   ]
  },
  {
   "cell_type": "code",
   "execution_count": 40,
   "metadata": {
    "colab": {
     "base_uri": "https://localhost:8080/",
     "height": 444
    },
    "id": "LGanNjtL1ds-",
    "outputId": "a4d985bd-940d-4e96-d008-ef46cbef87de"
   },
   "outputs": [
    {
     "data": {
      "image/png": "[encoded data removed]",
      "text/plain": [
       "<Figure size 640x480 with 1 Axes>"
      ]
     },
     "metadata": {},
     "output_type": "display_data"
    }
   ],
   "source": [
    "csco_df['30 Day MA'] = csco_df['Close'].rolling(window=30).mean()\n",
    "csco_df[['Close', '30 Day MA']].plot()\n",
    "plt.xlabel('Date')\n",
    "plt.ylabel('Price')\n",
    "plt.title('CSCO Closing Prices and 30 Day Moving Average')\n",
    "plt.show()"
   ]
  },
  {
   "cell_type": "markdown",
   "metadata": {
    "id": "YnCLfpnhUQcq"
   },
   "source": [
    "Plot di atas menampilkan harga penutupan saham Cisco Systems, Inc. (CSCO) dan rata-rata bergerak 30 hari (30 Day Moving Average) dari awal periode yang tersedia hingga 2020.\n",
    "\n",
    "1. Harga Penutupan:\n",
    "- Harga penutupan saham Cisco menunjukkan tren naik yang signifikan hingga puncaknya sekitar tahun 2000.\n",
    "Setelah puncak tersebut, harga saham mengalami penurunan tajam dan kemudian fluktuasi dengan pola yang lebih stabil setelah tahun 2004.\n",
    "\n",
    "2. Rata-Rata Bergerak 30 Hari:\n",
    "- Garis rata-rata bergerak 30 hari mengikuti tren harga penutupan tetapi lebih halus, karena rata-rata bergerak mengurangi fluktuasi jangka pendek dan memberikan pandangan yang lebih jelas tentang tren jangka panjang.\n",
    "Rata-rata bergerak ini membantu dalam mengidentifikasi tren yang lebih stabil dan mengurangi efek volatilitas harian.\n",
    "\n",
    "3. Perbandingan:\n",
    "- Ketika harga penutupan berada di atas rata-rata bergerak, ini sering kali menunjukkan tren naik.\n",
    "Sebaliknya, ketika harga penutupan berada di bawah rata-rata bergerak, ini bisa menunjukkan potensi pembalikan tren atau periode penurunan."
   ]
  },
  {
   "cell_type": "markdown",
   "metadata": {
    "id": "qNwjT2Q5Tx4Z"
   },
   "source": [
    "Mengonversi kolom Date dan Close dari DataFrame menjadi array numpy."
   ]
  },
  {
   "cell_type": "code",
   "execution_count": 41,
   "metadata": {
    "colab": {
     "base_uri": "https://localhost:8080/"
    },
    "id": "yQz_hvYItWgE",
    "outputId": "7851c74a-bfb3-4070-86a3-7ca7c981d2f5"
   },
   "outputs": [
    {
     "data": {
      "text/plain": [
       "(array(['1990-02-16T00:00:00.000000000', '1990-02-20T00:00:00.000000000',\n",
       "        '1990-02-21T00:00:00.000000000', '1990-02-22T00:00:00.000000000',\n",
       "        '1990-02-23T00:00:00.000000000', '1990-02-26T00:00:00.000000000',\n",
       "        '1990-02-27T00:00:00.000000000', '1990-02-28T00:00:00.000000000',\n",
       "        '1990-03-01T00:00:00.000000000', '1990-03-02T00:00:00.000000000'],\n",
       "       dtype='datetime64[ns]'),\n",
       " array([0.07725695, 0.07986111, 0.078125  , 0.07899305, 0.07855903,\n",
       "        0.07638889, 0.078125  , 0.08072916, 0.07986111, 0.08072916]))"
      ]
     },
     "execution_count": 41,
     "metadata": {},
     "output_type": "execute_result"
    }
   ],
   "source": [
    "timesteps_csco = csco_df.index.to_numpy()\n",
    "close_csco = csco_df[\"Close\"].to_numpy()\n",
    "\n",
    "timesteps_csco[:10], close_csco[:10]"
   ]
  },
  {
   "cell_type": "markdown",
   "metadata": {
    "id": "OHmZWw9UtTpG"
   },
   "source": [
    "### Windowizing CSCO data"
   ]
  },
  {
   "cell_type": "markdown",
   "metadata": {
    "id": "thUMcWMbT440"
   },
   "source": [
    "Windowizing dengan ketentuan window_size=5 dan horizon_size=1"
   ]
  },
  {
   "cell_type": "code",
   "execution_count": 42,
   "metadata": {
    "id": "OY36dfs0tY_R"
   },
   "outputs": [],
   "source": [
    "csco_x, csco_y = create_dataset(close_csco)"
   ]
  },
  {
   "cell_type": "code",
   "execution_count": 43,
   "metadata": {
    "colab": {
     "base_uri": "https://localhost:8080/"
    },
    "id": "7UNyqk8N9Tk5",
    "outputId": "e67256de-0b18-4c14-9f44-92f1b4bf0377"
   },
   "outputs": [
    {
     "data": {
      "text/plain": [
       "(7584, 7584)"
      ]
     },
     "execution_count": 43,
     "metadata": {},
     "output_type": "execute_result"
    }
   ],
   "source": [
    "len(csco_x), len(csco_y)"
   ]
  },
  {
   "cell_type": "markdown",
   "metadata": {
    "id": "mE3kcV0zT_cx"
   },
   "source": [
    "Contoh hasil windowizing:"
   ]
  },
  {
   "cell_type": "code",
   "execution_count": 44,
   "metadata": {
    "colab": {
     "base_uri": "https://localhost:8080/"
    },
    "id": "VWHXk2u5tmmr",
    "outputId": "b3909947-6a9c-4ef2-e428-68ffc26c704d"
   },
   "outputs": [
    {
     "name": "stdout",
     "output_type": "stream",
     "text": [
      "Window: [0.07725695 0.07986111 0.078125   0.07899305 0.07855903] -> Label: 0.0763888880610466\n",
      "Window: [0.07986111 0.078125   0.07899305 0.07855903 0.07638889] -> Label: 0.078125\n",
      "Window: [0.078125   0.07899305 0.07855903 0.07638889 0.078125  ] -> Label: 0.0807291641831398\n"
     ]
    }
   ],
   "source": [
    "for i in range(3):\n",
    "  print(f\"Window: {csco_x[i]} -> Label: {csco_y[i]}\")"
   ]
  },
  {
   "cell_type": "markdown",
   "metadata": {
    "id": "eAO3RIzIUBe0"
   },
   "source": [
    "Check bahwa hasil windowizing benar"
   ]
  },
  {
   "cell_type": "code",
   "execution_count": 45,
   "metadata": {
    "colab": {
     "base_uri": "https://localhost:8080/"
    },
    "id": "1DEBlGSUt758",
    "outputId": "0a04b53b-fe6d-45f2-ac8d-eaec11f8dd6a"
   },
   "outputs": [
    {
     "data": {
      "text/plain": [
       "array([0.07725695, 0.07986111, 0.078125  , 0.07899305, 0.07855903,\n",
       "       0.07638889])"
      ]
     },
     "execution_count": 45,
     "metadata": {},
     "output_type": "execute_result"
    }
   ],
   "source": [
    "close_csco[:6]"
   ]
  },
  {
   "cell_type": "code",
   "execution_count": 46,
   "metadata": {
    "colab": {
     "base_uri": "https://localhost:8080/"
    },
    "id": "-f75fQm-uE-d",
    "outputId": "2d00b926-a06b-4d4a-9a84-40f989e5584b"
   },
   "outputs": [
    {
     "data": {
      "text/plain": [
       "array([1.72916663, 1.70833337, 1.63541663, 1.42708337, 1.39583337,\n",
       "       1.5       ])"
      ]
     },
     "execution_count": 46,
     "metadata": {},
     "output_type": "execute_result"
    }
   ],
   "source": [
    "close_amzn[1:7]"
   ]
  },
  {
   "cell_type": "code",
   "execution_count": 47,
   "metadata": {
    "colab": {
     "base_uri": "https://localhost:8080/"
    },
    "id": "4OXIp2IGuFfI",
    "outputId": "d1c1a82c-25f1-4f0b-d630-83d360fcd65a"
   },
   "outputs": [
    {
     "data": {
      "text/plain": [
       "array([1.70833337, 1.63541663, 1.42708337, 1.39583337, 1.5       ,\n",
       "       1.58333337])"
      ]
     },
     "execution_count": 47,
     "metadata": {},
     "output_type": "execute_result"
    }
   ],
   "source": [
    "close_amzn[2:8]"
   ]
  },
  {
   "cell_type": "markdown",
   "metadata": {
    "id": "u2kQLjTxZfsM"
   },
   "source": [
    "### Splitting CSCO data into train, val, test"
   ]
  },
  {
   "cell_type": "markdown",
   "metadata": {
    "id": "RsAdK6WRUJ1J"
   },
   "source": [
    "Membagi data menjadi tiga set: 80% untuk pelatihan (training), 10% untuk validasi (validation), dan 10% untuk pengujian (test) berdasarkan urutan waktu."
   ]
  },
  {
   "cell_type": "code",
   "execution_count": 48,
   "metadata": {
    "colab": {
     "base_uri": "https://localhost:8080/"
    },
    "id": "vC5_RHAaaEXc",
    "outputId": "a3324714-dc82-4e37-c36d-32ffcdf180ac"
   },
   "outputs": [
    {
     "data": {
      "text/plain": [
       "(6067, 758, 759, 6067, 758, 759)"
      ]
     },
     "execution_count": 48,
     "metadata": {},
     "output_type": "execute_result"
    }
   ],
   "source": [
    "split_size = int(0.8 * len(csco_x))\n",
    "val_split_size = int(0.1 * len(csco_x))\n",
    "\n",
    "csco_x_train, csco_y_train = csco_x[:split_size], csco_y[:split_size]\n",
    "csco_x_val, csco_y_val = csco_x[split_size:split_size + val_split_size], csco_y[split_size:split_size + val_split_size]\n",
    "csco_x_test, csco_y_test = csco_x[split_size + val_split_size:], csco_y[split_size + val_split_size:]\n",
    "\n",
    "len(csco_x_train), len(csco_x_val), len(csco_x_test), len(csco_y_train), len(csco_y_val), len(csco_y_test)"
   ]
  },
  {
   "cell_type": "code",
   "execution_count": 49,
   "metadata": {
    "colab": {
     "base_uri": "https://localhost:8080/"
    },
    "id": "PguGqmS5t3TW",
    "outputId": "742a573d-b5a9-4a75-e1cb-7dca4ca87aea"
   },
   "outputs": [
    {
     "name": "stdout",
     "output_type": "stream",
     "text": [
      "Train data range: 1990-02-23T00:00:00.000000000 to 2014-03-21T00:00:00.000000000\n",
      "Validation data range: 2014-03-24T00:00:00.000000000 to 2017-03-24T00:00:00.000000000\n",
      "Test data range: 2017-03-27T00:00:00.000000000 to 2020-04-01T00:00:00.000000000\n"
     ]
    }
   ],
   "source": [
    "window_size = 5\n",
    "horizon_size = 1\n",
    "dates_adjusted = timesteps_csco[window_size + horizon_size - 2:]\n",
    "\n",
    "dates_train = dates_adjusted[:split_size]\n",
    "dates_val = dates_adjusted[split_size:split_size + val_split_size]\n",
    "dates_test = dates_adjusted[split_size + val_split_size:]\n",
    "\n",
    "print(\"Train data range: {} to {}\".format(dates_train[0], dates_train[-1]))\n",
    "print(\"Validation data range: {} to {}\".format(dates_val[0], dates_val[-1]))\n",
    "print(\"Test data range: {} to {}\".format(dates_test[0], dates_test[-1]))"
   ]
  },
  {
   "cell_type": "markdown",
   "metadata": {
    "id": "pOmB-7g3_Aox"
   },
   "source": [
    "## **LSTM BASELINE MODEL**"
   ]
  },
  {
   "cell_type": "code",
   "execution_count": 50,
   "metadata": {
    "id": "iWUqtrhL9b5d"
   },
   "outputs": [],
   "source": [
    "import torch\n",
    "import torch.nn as nn\n",
    "import torch.optim as optim\n",
    "from torch.utils.data import DataLoader, TensorDataset"
   ]
  },
  {
   "cell_type": "markdown",
   "metadata": {
    "id": "1PUUaBSOWWL8"
   },
   "source": [
    "Saya melakukan konversi ke Tensor dan membuat DataLoader terlebih dahulu\n",
    "\n",
    "- Konversi ke Tensor: Mengonversi data ke tensor PyTorch agar dapat digunakan oleh model.\n",
    "- DataLoader: Memudahkan pengelolaan data selama pelatihan, termasuk batching dan pengacakan data."
   ]
  },
  {
   "cell_type": "code",
   "execution_count": 51,
   "metadata": {
    "id": "DefFae1BETTd"
   },
   "outputs": [],
   "source": [
    "def prepare_dataloader(X, y, batch_size=32):\n",
    "    tensor_x = torch.tensor(X, dtype=torch.float32).unsqueeze(-1)\n",
    "    tensor_y = torch.tensor(y, dtype=torch.float32).unsqueeze(-1)\n",
    "    dataset = TensorDataset(tensor_x, tensor_y)\n",
    "    dataloader = DataLoader(dataset, batch_size=batch_size, shuffle=True)\n",
    "    return dataloader"
   ]
  },
  {
   "cell_type": "code",
   "execution_count": 52,
   "metadata": {
    "id": "zya65gmG12W1"
   },
   "outputs": [],
   "source": [
    "# DataLoader for AMZN\n",
    "train_loader_amzn = prepare_dataloader(amzn_x_train, amzn_y_train)\n",
    "val_loader_amzn = prepare_dataloader(amzn_x_val, amzn_y_val)\n",
    "test_loader_amzn = prepare_dataloader(amzn_x_test, amzn_y_test)"
   ]
  },
  {
   "cell_type": "code",
   "execution_count": 53,
   "metadata": {
    "id": "5FNA_mOP139T"
   },
   "outputs": [],
   "source": [
    "# DataLoader for CSCO\n",
    "train_loader_csco = prepare_dataloader(csco_x_train, csco_y_train)\n",
    "val_loader_csco = prepare_dataloader(csco_x_val, csco_y_val)\n",
    "test_loader_csco = prepare_dataloader(csco_x_test, csco_y_test)"
   ]
  },
  {
   "cell_type": "code",
   "execution_count": 54,
   "metadata": {
    "id": "B2qTW3MR_D1a"
   },
   "outputs": [],
   "source": [
    "class BaselineLSTMModel(nn.Module):\n",
    "    def __init__(self, input_size, hidden_size, output_size):\n",
    "        super(BaselineLSTMModel, self).__init__()\n",
    "        self.model = nn.Sequential(\n",
    "            nn.LSTM(input_size, hidden_size, batch_first=True),\n",
    "            nn.ReLU(),\n",
    "            nn.Linear(hidden_size, output_size)\n",
    "        )\n",
    "\n",
    "    def forward(self, x):\n",
    "        lstm_out, _ = self.model[0](x)\n",
    "        relu_out = self.model[1](lstm_out[:, -1, :])\n",
    "        out = self.model[2](relu_out)\n",
    "        return out"
   ]
  },
  {
   "cell_type": "markdown",
   "metadata": {
    "id": "RV500a2BU6Nh"
   },
   "source": [
    "Arsitektur yang dibuat sesuai dengan permintaan soal mencakup:\n",
    "\n",
    "- Layer LSTM dengan 50 unit untuk memproses data sequence: Data melewati layer LSTM dengan 50 unit. Layer ini memproses data sequence dan menghasilkan output sequence beserta hidden states.\n",
    "- Fungsi aktivasi ReLU untuk memperkenalkan non-linearitas: Output dari layer LSTM diteruskan ke fungsi aktivasi ReLU. Fungsi ini hanya membiarkan nilai positif melewatinya, memperkenalkan non-linearitas ke dalam model.\n",
    "- Layer Dense akhir dengan satu unit untuk menghasilkan prediksi tunggal: Output dari fungsi ReLU kemudian diteruskan ke layer Dense dengan satu unit. Layer ini menghasilkan satu nilai prediksi sebagai output akhir dari model.\n",
    "\n",
    "Arsitektur ini dirancang untuk menangkap pola kompleks dalam data time series dan menghasilkan prediksi yang akurat, sesuai dengan tujuan tugas regresi pada data harga saham."
   ]
  },
  {
   "cell_type": "code",
   "execution_count": 55,
   "metadata": {
    "id": "uPtUTHhT_JfX"
   },
   "outputs": [],
   "source": [
    "input_size = 1\n",
    "hidden_size = 50\n",
    "output_size = 1\n",
    "learning_rate = 0.001\n",
    "num_epochs = 30"
   ]
  },
  {
   "cell_type": "markdown",
   "metadata": {
    "id": "sUUDIwjeVZIO"
   },
   "source": [
    "1. input_size = 1:\n",
    "- Ukuran input adalah 1, karena kita hanya menggunakan satu fitur yaitu harga penutupan saham ('Close').\n",
    "\n",
    "2. hidden_size = 50:\n",
    "- Ukuran hidden layer adalah 50, sesuai dengan permintaan soal untuk unit LSTM.\n",
    "\n",
    "3. output_size = 1:\n",
    "- Ukuran output adalah 1, karena model menghasilkan satu nilai prediksi (harga penutupan).\n",
    "\n",
    "4. learning_rate = 0.001:\n",
    "- Learning rate adalah 0.001, yang mengontrol seberapa besar langkah update parameter model pada setiap iterasi.\n",
    "\n",
    "5. num_epochs = 30:\n",
    "- Jumlah epoch adalah 30, yaitu berapa kali seluruh dataset dilalui selama proses pelatihan."
   ]
  },
  {
   "cell_type": "code",
   "execution_count": 56,
   "metadata": {
    "id": "oVoNYC3u_MeH"
   },
   "outputs": [],
   "source": [
    "criterion = nn.MSELoss()\n",
    "\n",
    "baseline_model_amzn = BaselineLSTMModel(input_size, hidden_size, output_size)\n",
    "baseline_optimizer_amzn = optim.Adam(baseline_model_amzn.parameters(), lr=0.001)\n",
    "\n",
    "baseline_model_csco = BaselineLSTMModel(input_size, hidden_size, output_size)\n",
    "baseline_optimizer_csco = optim.Adam(baseline_model_csco.parameters(), lr=0.001)"
   ]
  },
  {
   "cell_type": "markdown",
   "metadata": {
    "id": "lYwyYL57Vqjn"
   },
   "source": [
    "1. MSELoss (Mean Squared Error Loss): Digunakan sebagai fungsi loss untuk mengukur rata-rata kesalahan kuadrat antara nilai yang diprediksi oleh model dan nilai sebenarnya. Ini adalah fungsi loss yang umum digunakan untuk tugas regresi seperti prediksi harga saham.\n",
    "\n",
    "2. baseline_model: Membuat instance model baseline LSTM untuk data AMZN dengan parameter input_size, hidden_size, dan output_size yang sudah ditentukan.\n",
    "\n",
    "3. baseline_optimizer: Membuat optimizer Adam untuk model AMZN dengan learning rate 0.001. Optimizer ini akan mengupdate parameter model untuk meminimalkan loss selama pelatihan."
   ]
  },
  {
   "cell_type": "markdown",
   "metadata": {
    "id": "A0sajVKZWoJG"
   },
   "source": [
    "Sekarang, saya akan melakukan training untuk baseline architecture dengan jumlah epoch 30 dan menerapkan early stopping, yaitu teknik untuk menghentikan pelatihan lebih awal jika kinerja pada set validasi tidak meningkat setelah sejumlah iterasi tertentu. Ini membantu mencegah overfitting."
   ]
  },
  {
   "cell_type": "code",
   "execution_count": 57,
   "metadata": {
    "id": "W4WBHoOb5CPm"
   },
   "outputs": [],
   "source": [
    "def train_model(model, train_loader, val_loader, criterion, optimizer, num_epochs=30):\n",
    "    model.train()\n",
    "    best_val_loss = float('inf')\n",
    "    patience_counter = 0\n",
    "    early_stopping_patience = 10\n",
    "    best_model = model.state_dict()\n",
    "\n",
    "    train_losses_epoch = []\n",
    "    val_losses_epoch = []\n",
    "\n",
    "    for epoch in range(num_epochs):\n",
    "        train_losses = []\n",
    "        for x_batch, y_batch in train_loader:\n",
    "            optimizer.zero_grad()\n",
    "            outputs = model(x_batch)\n",
    "            loss = criterion(outputs, y_batch)\n",
    "            loss.backward()\n",
    "            optimizer.step()\n",
    "            train_losses.append(loss.item())\n",
    "\n",
    "        val_losses = []\n",
    "        model.eval()\n",
    "        with torch.no_grad():\n",
    "            for x_batch, y_batch in val_loader:\n",
    "                outputs = model(x_batch)\n",
    "                loss = criterion(outputs, y_batch)\n",
    "                val_losses.append(loss.item())\n",
    "\n",
    "        train_loss = np.mean(train_losses)\n",
    "        val_loss = np.mean(val_losses)\n",
    "        train_losses_epoch.append(train_loss)\n",
    "        val_losses_epoch.append(val_loss)\n",
    "\n",
    "        print(f\"Epoch {epoch + 1}, Train Loss: {train_loss}, Val Loss: {val_loss}\")\n",
    "\n",
    "        if val_loss < best_val_loss:\n",
    "            best_val_loss = val_loss\n",
    "            patience_counter = 0\n",
    "            best_model = model.state_dict()\n",
    "        else:\n",
    "            patience_counter += 1\n",
    "\n",
    "        if patience_counter >= early_stopping_patience:\n",
    "            print(f\"Early stopping triggered at epoch {epoch + 1}\")\n",
    "            break\n",
    "\n",
    "    model.load_state_dict(best_model)\n",
    "    return model, train_losses_epoch, val_losses_epoch"
   ]
  },
  {
   "cell_type": "code",
   "execution_count": 58,
   "metadata": {
    "colab": {
     "base_uri": "https://localhost:8080/"
    },
    "id": "O0uM_7cY_-xX",
    "outputId": "66ace7a7-ae9c-41fa-ae5f-e47567a2b38c"
   },
   "outputs": [
    {
     "name": "stdout",
     "output_type": "stream",
     "text": [
      "Training AMZN model\n",
      "Epoch 1, Train Loss: 24732.6748691135, Val Loss: 652866.7395833334\n",
      "Epoch 2, Train Loss: 23813.277706570094, Val Loss: 647130.9027777778\n",
      "Epoch 3, Train Loss: 23099.38872273763, Val Loss: 642088.4340277778\n",
      "Epoch 4, Train Loss: 22487.550079345703, Val Loss: 637278.0486111111\n",
      "Epoch 5, Train Loss: 21861.517879909938, Val Loss: 631844.1770833334\n",
      "Epoch 6, Train Loss: 21148.969451904297, Val Loss: 625410.4826388889\n",
      "Epoch 7, Train Loss: 20455.205861409504, Val Loss: 619888.6979166666\n",
      "Epoch 8, Train Loss: 19848.928098890516, Val Loss: 614777.0381944445\n",
      "Epoch 9, Train Loss: 19281.93168809679, Val Loss: 609580.1666666666\n",
      "Epoch 10, Train Loss: 18728.80546061198, Val Loss: 604623.1128472222\n",
      "Epoch 11, Train Loss: 18231.20189751519, Val Loss: 599829.0243055555\n",
      "Epoch 12, Train Loss: 17735.292037963867, Val Loss: 594847.1979166666\n",
      "Epoch 13, Train Loss: 17280.711266411676, Val Loss: 590139.3871527778\n",
      "Epoch 14, Train Loss: 16826.84800720215, Val Loss: 585686.5381944445\n",
      "Epoch 15, Train Loss: 16396.336688571508, Val Loss: 580953.7864583334\n",
      "Epoch 16, Train Loss: 15969.200958251953, Val Loss: 576481.140625\n",
      "Epoch 17, Train Loss: 15533.234581841363, Val Loss: 571916.0520833334\n",
      "Epoch 18, Train Loss: 15137.877502441406, Val Loss: 567615.4305555555\n",
      "Epoch 19, Train Loss: 14741.158060709635, Val Loss: 562997.3020833334\n",
      "Epoch 20, Train Loss: 14382.669850667318, Val Loss: 558666.3663194445\n",
      "Epoch 21, Train Loss: 13993.016064114041, Val Loss: 554328.1197916666\n",
      "Epoch 22, Train Loss: 13646.398939344617, Val Loss: 550026.5972222222\n",
      "Epoch 23, Train Loss: 13279.223064846463, Val Loss: 545751.6840277778\n",
      "Epoch 24, Train Loss: 12943.167963663736, Val Loss: 541452.3506944445\n",
      "Epoch 25, Train Loss: 12601.083214653863, Val Loss: 537243.8194444445\n",
      "Epoch 26, Train Loss: 12276.043485853406, Val Loss: 533156.3576388889\n",
      "Epoch 27, Train Loss: 11955.942573547363, Val Loss: 528908.2690972222\n",
      "Epoch 28, Train Loss: 11634.316373189291, Val Loss: 524664.1475694445\n",
      "Epoch 29, Train Loss: 11333.58720228407, Val Loss: 520370.6614583333\n",
      "Epoch 30, Train Loss: 11021.847215440539, Val Loss: 516226.328125\n"
     ]
    }
   ],
   "source": [
    "print(\"Training AMZN model\")\n",
    "baseline_model_amzn, train_losses_amzn, val_losses_amzn = train_model(baseline_model_amzn, train_loader_amzn, val_loader_amzn, criterion, baseline_optimizer_amzn, num_epochs)"
   ]
  },
  {
   "cell_type": "code",
   "execution_count": 59,
   "metadata": {
    "colab": {
     "base_uri": "https://localhost:8080/",
     "height": 564
    },
    "id": "B20BuGgXKUV7",
    "outputId": "02d3de73-e385-4c6b-c4da-f7e9b29cb57b"
   },
   "outputs": [
    {
     "data": {
      "image/png": "[encoded data removed]",
      "text/plain": [
       "<Figure size 1000x600 with 1 Axes>"
      ]
     },
     "metadata": {},
     "output_type": "display_data"
    }
   ],
   "source": [
    "plt.figure(figsize=(10, 6))\n",
    "plt.plot(train_losses_amzn, label='Train Loss AMZN')\n",
    "plt.plot(val_losses_amzn, label='Val Loss AMZN')\n",
    "plt.xlabel('Epoch')\n",
    "plt.ylabel('Loss')\n",
    "plt.title('Training and Validation Loss for AMZN')\n",
    "plt.legend()\n",
    "plt.show()"
   ]
  },
  {
   "cell_type": "markdown",
   "metadata": {
    "id": "wB26gRh-XnWU"
   },
   "source": [
    "- Train Loss Stabil dan Rendah: Model mampu mempelajari data pelatihan dengan baik.\n",
    "- Val Loss Tinggi: Menunjukkan adanya overfitting, di mana model tidak generalisasi dengan baik pada data validasi."
   ]
  },
  {
   "cell_type": "code",
   "execution_count": 60,
   "metadata": {
    "colab": {
     "base_uri": "https://localhost:8080/"
    },
    "id": "GfU1puktAB4C",
    "outputId": "d8ec5c71-219c-4b6c-e8bd-b2b25ffe4e34"
   },
   "outputs": [
    {
     "name": "stdout",
     "output_type": "stream",
     "text": [
      "Training CSCO model\n",
      "Epoch 1, Train Loss: 362.1673051532946, Val Loss: 483.2640609741211\n",
      "Epoch 2, Train Loss: 247.1510453475149, Val Loss: 331.2281608581543\n",
      "Epoch 3, Train Loss: 182.73903471294201, Val Loss: 226.80821164449057\n",
      "Epoch 4, Train Loss: 140.20571620338842, Val Loss: 153.274032274882\n",
      "Epoch 5, Train Loss: 112.61743681054367, Val Loss: 102.73809750874837\n",
      "Epoch 6, Train Loss: 94.60080928551524, Val Loss: 67.40049250920613\n",
      "Epoch 7, Train Loss: 81.54325103634282, Val Loss: 42.2075891494751\n",
      "Epoch 8, Train Loss: 71.89881305569097, Val Loss: 25.307386716206867\n",
      "Epoch 9, Train Loss: 64.37270252853632, Val Loss: 14.07147224744161\n",
      "Epoch 10, Train Loss: 58.279329038842725, Val Loss: 7.023256282011668\n",
      "Epoch 11, Train Loss: 52.49741574196439, Val Loss: 3.0808983594179153\n",
      "Epoch 12, Train Loss: 47.5691069466503, Val Loss: 1.235071777055661\n",
      "Epoch 13, Train Loss: 43.017933091011486, Val Loss: 0.7489041561881701\n",
      "Epoch 14, Train Loss: 38.77750687379586, Val Loss: 0.24299941025674343\n",
      "Epoch 15, Train Loss: 34.69615760359325, Val Loss: 0.38717487330238026\n",
      "Epoch 16, Train Loss: 31.06128420535671, Val Loss: 0.18897395891447863\n",
      "Epoch 17, Train Loss: 27.738537779332777, Val Loss: 0.1846298836171627\n",
      "Epoch 18, Train Loss: 24.482257280773236, Val Loss: 0.249415029771626\n",
      "Epoch 19, Train Loss: 21.63219995151617, Val Loss: 0.19592962941775718\n",
      "Epoch 20, Train Loss: 18.84814621888493, Val Loss: 0.13330677601819238\n",
      "Epoch 21, Train Loss: 16.420327508449553, Val Loss: 0.26030231391390163\n",
      "Epoch 22, Train Loss: 14.293449664880571, Val Loss: 0.23904753476381302\n",
      "Epoch 23, Train Loss: 12.233786955671874, Val Loss: 0.3168728705495596\n",
      "Epoch 24, Train Loss: 10.498512161327035, Val Loss: 0.13004081277176738\n",
      "Epoch 25, Train Loss: 8.907702458571446, Val Loss: 0.1611925863350431\n",
      "Epoch 26, Train Loss: 7.571845844309581, Val Loss: 0.20012183021754026\n",
      "Epoch 27, Train Loss: 6.45027442892131, Val Loss: 0.16055781797816357\n",
      "Epoch 28, Train Loss: 5.520619040531548, Val Loss: 0.15028506548454365\n",
      "Epoch 29, Train Loss: 4.6871634918019955, Val Loss: 0.16481137555092573\n",
      "Epoch 30, Train Loss: 4.0025264895864225, Val Loss: 0.17173136894901594\n"
     ]
    }
   ],
   "source": [
    "print(\"Training CSCO model\")\n",
    "baseline_model_csco, train_losses_csco, val_losses_csco = train_model(baseline_model_csco, train_loader_csco, val_loader_csco, criterion, baseline_optimizer_csco, num_epochs)"
   ]
  },
  {
   "cell_type": "code",
   "execution_count": 61,
   "metadata": {
    "colab": {
     "base_uri": "https://localhost:8080/",
     "height": 564
    },
    "id": "9q4ON51sKWMA",
    "outputId": "fd2ade53-3ca9-4ef7-b539-8ea21636719a"
   },
   "outputs": [
    {
     "data": {
      "image/png": "[encoded data removed]",
      "text/plain": [
       "<Figure size 1000x600 with 1 Axes>"
      ]
     },
     "metadata": {},
     "output_type": "display_data"
    }
   ],
   "source": [
    "plt.figure(figsize=(10, 6))\n",
    "plt.plot(train_losses_csco, label='Train Loss CSCO')\n",
    "plt.plot(val_losses_csco, label='Val Loss CSCO')\n",
    "plt.xlabel('Epoch')\n",
    "plt.ylabel('Loss')\n",
    "plt.title('Training and Validation Loss for CSCO')\n",
    "plt.legend()\n",
    "plt.show()"
   ]
  },
  {
   "cell_type": "markdown",
   "metadata": {
    "id": "Eg0cfBEMX07f"
   },
   "source": [
    "- Train Loss dan Val Loss Menurun: Model mampu belajar dari data pelatihan dan juga generalisasi dengan baik pada data validasi.\n",
    "- Tidak Terjadi Overfitting: Karena val loss juga menurun, ini menunjukkan model tidak overfit pada data pelatihan dan bekerja dengan baik pada data yang belum pernah dilihat."
   ]
  },
  {
   "cell_type": "markdown",
   "metadata": {
    "id": "oRfwGFsTOxsx"
   },
   "source": [
    "## **LSTM MODIFIED ARCHITECTURE**"
   ]
  },
  {
   "cell_type": "markdown",
   "metadata": {
    "id": "iwPn1l7qPLhi"
   },
   "source": [
    "Setelah mengevaluasi hasil dari arsitektur baseline, saya melakukan beberapa modifikasi pada arsitektur model LSTM untuk meningkatkan kinerja. Berikut adalah penjelasan dari modifikasi yang dilakukan dan alasan di balik pemilihan pendekatan tersebut.\n",
    "\n",
    "1. Penambahan Jumlah LSTM Layers:\n",
    "- Baseline: 1 LSTM layer\n",
    "- Modified: 2 LSTM layers\n",
    "- Alasan: Menambah jumlah layer LSTM dapat membantu model menangkap pola yang lebih kompleks dalam data time series. Dengan lebih banyak layer, model dapat belajar fitur yang lebih abstrak dan mendalam dari data.\n",
    "\n",
    "2. Penambahan Dropout:\n",
    "- Baseline: Tidak ada dropout\n",
    "- Modified: Dropout rate 0.2\n",
    "- Alasan: Dropout adalah teknik regularisasi yang membantu mencegah overfitting dengan mengabaikan sejumlah neuron secara acak selama pelatihan. Ini membantu model generalisasi lebih baik pada data baru.\n",
    "\n",
    "3. Penambahan Ukuran Hidden Layer:\n",
    "- Baseline: 50 unit\n",
    "- Modified: 100 unit\n",
    "- Alasan: Menambah ukuran hidden layer memungkinkan model untuk menyimpan lebih banyak informasi dan belajar representasi yang lebih kompleks dari data. Ini dapat meningkatkan kemampuan model untuk melakukan prediksi yang lebih akurat.\n",
    "\n",
    "4. Hyperparameters:\n",
    "- learning_rate = 0.001: Tetap sama karena ini adalah nilai yang umumnya bekerja baik untuk optimasi Adam.\n",
    "- num_epochs = 50: Jumlah epoch ditingkatkan dari 30 ke 50 untuk memberi model lebih banyak waktu belajar dan meningkatkan kinerja.\n",
    "- dropout = 0.2: Menambah dropout untuk regularisasi tambahan."
   ]
  },
  {
   "cell_type": "code",
   "execution_count": 62,
   "metadata": {
    "id": "wHoiGOqCPIMF"
   },
   "outputs": [],
   "source": [
    "class ModifiedLSTMModel(nn.Module):\n",
    "    def __init__(self, input_size, hidden_size, output_size, num_layers=2, dropout=0.2):\n",
    "        super(ModifiedLSTMModel, self).__init__()\n",
    "        self.lstm = nn.LSTM(input_size, hidden_size, num_layers=num_layers, batch_first=True, dropout=dropout)\n",
    "        self.fc = nn.Linear(hidden_size, output_size)\n",
    "        self.relu = nn.ReLU()\n",
    "\n",
    "    def forward(self, x):\n",
    "        lstm_out, _ = self.lstm(x)\n",
    "        lstm_out = self.relu(lstm_out[:, -1, :])\n",
    "        out = self.fc(lstm_out)\n",
    "        return out"
   ]
  },
  {
   "cell_type": "code",
   "execution_count": 63,
   "metadata": {
    "id": "OwmMzztbPQqV"
   },
   "outputs": [],
   "source": [
    "input_size = 1\n",
    "hidden_size = 100\n",
    "output_size = 1\n",
    "num_layers = 2\n",
    "dropout = 0.2\n",
    "learning_rate = 0.001\n",
    "num_epochs = 50"
   ]
  },
  {
   "cell_type": "code",
   "execution_count": 64,
   "metadata": {
    "id": "MqybbFQOPVQ1"
   },
   "outputs": [],
   "source": [
    "criterion = nn.MSELoss()\n",
    "\n",
    "modified_model_amzn = ModifiedLSTMModel(input_size, hidden_size, output_size, num_layers, dropout)\n",
    "modified_optimizer_amzn = optim.Adam(modified_model_amzn.parameters(), lr=learning_rate)\n",
    "\n",
    "modified_model_csco = ModifiedLSTMModel(input_size, hidden_size, output_size, num_layers, dropout)\n",
    "modified_optimizer_csco = optim.Adam(modified_model_csco.parameters(), lr=learning_rate)"
   ]
  },
  {
   "cell_type": "code",
   "execution_count": 65,
   "metadata": {
    "colab": {
     "base_uri": "https://localhost:8080/"
    },
    "id": "9VH8NeY1PcOD",
    "outputId": "08f47815-3808-440e-f7cc-55177b63a641"
   },
   "outputs": [
    {
     "name": "stdout",
     "output_type": "stream",
     "text": [
      "Training modified AMZN model\n",
      "Epoch 1, Train Loss: 24131.215945773656, Val Loss: 646188.96875\n",
      "Epoch 2, Train Loss: 22675.18485853407, Val Loss: 635917.8923611111\n",
      "Epoch 3, Train Loss: 21378.025058322484, Val Loss: 625376.9131944445\n",
      "Epoch 4, Train Loss: 20181.939770168727, Val Loss: 615457.1076388889\n",
      "Epoch 5, Train Loss: 19080.40391031901, Val Loss: 604848.4270833334\n",
      "Epoch 6, Train Loss: 18039.660549587672, Val Loss: 595369.1475694445\n",
      "Epoch 7, Train Loss: 17077.23486328125, Val Loss: 585785.7170138889\n",
      "Epoch 8, Train Loss: 16212.199334038629, Val Loss: 576813.0451388889\n",
      "Epoch 9, Train Loss: 15392.087914360895, Val Loss: 568246.7934027778\n",
      "Epoch 10, Train Loss: 14636.487940470377, Val Loss: 559555.9427083334\n",
      "Epoch 11, Train Loss: 13918.97764925162, Val Loss: 551331.0572916666\n",
      "Epoch 12, Train Loss: 13240.488632202148, Val Loss: 543124.0503472222\n",
      "Epoch 13, Train Loss: 12581.454567379422, Val Loss: 535180.0642361111\n",
      "Epoch 14, Train Loss: 11970.31036037869, Val Loss: 527372.296875\n",
      "Epoch 15, Train Loss: 11386.561480204264, Val Loss: 519614.0017361111\n",
      "Epoch 16, Train Loss: 10825.665145874023, Val Loss: 511999.7552083333\n",
      "Epoch 17, Train Loss: 10273.593241373697, Val Loss: 504327.69097222225\n",
      "Epoch 18, Train Loss: 9755.701354980469, Val Loss: 496823.515625\n",
      "Epoch 19, Train Loss: 9268.230307685004, Val Loss: 489534.9010416667\n",
      "Epoch 20, Train Loss: 8804.495181189643, Val Loss: 482531.7604166667\n",
      "Epoch 21, Train Loss: 8340.83721754286, Val Loss: 475275.2395833333\n",
      "Epoch 22, Train Loss: 7906.114502165053, Val Loss: 468335.890625\n",
      "Epoch 23, Train Loss: 7506.252752621968, Val Loss: 461540.02256944444\n",
      "Epoch 24, Train Loss: 7117.854425642226, Val Loss: 454762.05902777775\n",
      "Epoch 25, Train Loss: 6726.005272759332, Val Loss: 448054.47569444444\n",
      "Epoch 26, Train Loss: 6369.666055891249, Val Loss: 441487.7204861111\n",
      "Epoch 27, Train Loss: 6025.412338256836, Val Loss: 434962.48090277775\n",
      "Epoch 28, Train Loss: 5710.828499688043, Val Loss: 428607.5416666667\n",
      "Epoch 29, Train Loss: 5392.526931126912, Val Loss: 422465.19444444444\n",
      "Epoch 30, Train Loss: 5092.994690789117, Val Loss: 416253.58680555556\n",
      "Epoch 31, Train Loss: 4812.447106017007, Val Loss: 410171.83680555556\n",
      "Epoch 32, Train Loss: 4549.91457663642, Val Loss: 404447.0173611111\n",
      "Epoch 33, Train Loss: 4305.055877341165, Val Loss: 398438.4201388889\n",
      "Epoch 34, Train Loss: 4072.482417821884, Val Loss: 392517.6197916667\n",
      "Epoch 35, Train Loss: 3811.8607103890845, Val Loss: 386362.58506944444\n",
      "Epoch 36, Train Loss: 3584.936732345157, Val Loss: 380544.9947916667\n",
      "Epoch 37, Train Loss: 3377.277577665117, Val Loss: 374817.58159722225\n",
      "Epoch 38, Train Loss: 3174.8707920180427, Val Loss: 369137.0451388889\n",
      "Epoch 39, Train Loss: 2987.3107114368013, Val Loss: 363725.4583333333\n",
      "Epoch 40, Train Loss: 2811.4808755450777, Val Loss: 358421.52777777775\n",
      "Epoch 41, Train Loss: 2642.5824656883874, Val Loss: 353159.6510416667\n",
      "Epoch 42, Train Loss: 2486.733124938276, Val Loss: 347859.1979166667\n",
      "Epoch 43, Train Loss: 2338.3272782233025, Val Loss: 342883.95225694444\n",
      "Epoch 44, Train Loss: 2193.7675455941094, Val Loss: 337904.27430555556\n",
      "Epoch 45, Train Loss: 2060.13207742903, Val Loss: 332991.5607638889\n",
      "Epoch 46, Train Loss: 1934.8295553326607, Val Loss: 328081.75347222225\n",
      "Epoch 47, Train Loss: 1815.6173010269802, Val Loss: 323465.61284722225\n",
      "Epoch 48, Train Loss: 1701.4399458004368, Val Loss: 318859.30555555556\n",
      "Epoch 49, Train Loss: 1598.459417377909, Val Loss: 314363.91753472225\n",
      "Epoch 50, Train Loss: 1499.744250724713, Val Loss: 309933.6614583333\n"
     ]
    }
   ],
   "source": [
    "print(\"Training modified AMZN model\")\n",
    "modified_model_amzn, train_losses_amzn_mod, val_losses_amzn_mod = train_model(modified_model_amzn, train_loader_amzn, val_loader_amzn, criterion, modified_optimizer_amzn, num_epochs)"
   ]
  },
  {
   "cell_type": "code",
   "execution_count": 66,
   "metadata": {
    "colab": {
     "base_uri": "https://localhost:8080/",
     "height": 564
    },
    "id": "erN_b5CkPhMu",
    "outputId": "6bcaa5c4-69fe-4c3f-a915-e86b47278dc5"
   },
   "outputs": [
    {
     "data": {
      "image/png": "[encoded data removed]",
      "text/plain": [
       "<Figure size 1000x600 with 1 Axes>"
      ]
     },
     "metadata": {},
     "output_type": "display_data"
    }
   ],
   "source": [
    "plt.figure(figsize=(10, 6))\n",
    "plt.plot(train_losses_amzn_mod, label='Train Loss Modified AMZN')\n",
    "plt.plot(val_losses_amzn_mod, label='Val Loss Modified AMZN')\n",
    "plt.xlabel('Epoch')\n",
    "plt.ylabel('Loss')\n",
    "plt.title('Training and Validation Loss for Modified AMZN')\n",
    "plt.legend()\n",
    "plt.show()"
   ]
  },
  {
   "cell_type": "markdown",
   "metadata": {
    "id": "OI9GsxsuY1sX"
   },
   "source": [
    "- Penurunan yang Konsisten: Kedua garis menunjukkan penurunan yang konsisten, yang menunjukkan bahwa model terus belajar dan memperbaiki kinerjanya baik pada data pelatihan maupun data validasi.\n",
    "- Val Loss Masih Tinggi: Meskipun ada penurunan, val loss tetap tinggi dibandingkan train loss, yang mengindikasikan adanya overfitting meskipun telah dilakukan beberapa regularisasi dengan dropout.\n",
    "- Kinerja yang Meningkat: Dibandingkan dengan model baseline, ada peningkatan dalam kinerja model yang dimodifikasi ini, terutama dalam hal penurunan val loss yang lebih signifikan seiring bertambahnya epoch."
   ]
  },
  {
   "cell_type": "code",
   "execution_count": 67,
   "metadata": {
    "colab": {
     "base_uri": "https://localhost:8080/"
    },
    "id": "jnq2BH5pPd2b",
    "outputId": "731b8cce-7f42-462b-c268-affc571603b3"
   },
   "outputs": [
    {
     "name": "stdout",
     "output_type": "stream",
     "text": [
      "Training modified CSCO model\n",
      "Epoch 1, Train Loss: 302.14842276322213, Val Loss: 342.97885513305664\n",
      "Epoch 2, Train Loss: 167.98551921844484, Val Loss: 167.1880054473877\n",
      "Epoch 3, Train Loss: 107.74977794195476, Val Loss: 70.69403092066447\n",
      "Epoch 4, Train Loss: 77.19739978564412, Val Loss: 23.158691883087158\n",
      "Epoch 5, Train Loss: 59.507435997261815, Val Loss: 6.14317312836647\n",
      "Epoch 6, Train Loss: 48.824049346423465, Val Loss: 1.0896113080283005\n",
      "Epoch 7, Train Loss: 40.38080008559321, Val Loss: 0.23643445068349442\n",
      "Epoch 8, Train Loss: 33.610080137927284, Val Loss: 0.34498313007255393\n",
      "Epoch 9, Train Loss: 27.673011098292314, Val Loss: 0.17032920445005098\n",
      "Epoch 10, Train Loss: 22.542120024169748, Val Loss: 0.27927231912811595\n",
      "Epoch 11, Train Loss: 18.33971384199042, Val Loss: 0.3868103822072347\n",
      "Epoch 12, Train Loss: 14.701529900474767, Val Loss: 1.0951384132107098\n",
      "Epoch 13, Train Loss: 11.762008586643558, Val Loss: 0.5250997555752596\n",
      "Epoch 14, Train Loss: 8.868679979953326, Val Loss: 0.20541437094410261\n",
      "Epoch 15, Train Loss: 6.418794392441448, Val Loss: 0.3813685489197572\n",
      "Epoch 16, Train Loss: 4.2059015758727725, Val Loss: 0.13275550802548727\n",
      "Epoch 17, Train Loss: 3.1282970247300046, Val Loss: 0.1791938291862607\n",
      "Epoch 18, Train Loss: 2.3472552682812275, Val Loss: 0.23394075719018778\n",
      "Epoch 19, Train Loss: 1.7796266482064598, Val Loss: 0.3348890294631322\n",
      "Epoch 20, Train Loss: 1.5001492603829032, Val Loss: 0.13749048548440138\n",
      "Epoch 21, Train Loss: 1.260424904995843, Val Loss: 0.1471551243836681\n",
      "Epoch 22, Train Loss: 1.0662079960892075, Val Loss: 0.1814248605320851\n",
      "Epoch 23, Train Loss: 0.9650316965030996, Val Loss: 0.14142216788604856\n",
      "Epoch 24, Train Loss: 0.8759860188161072, Val Loss: 0.6250107648471991\n",
      "Epoch 25, Train Loss: 0.8681143676764087, Val Loss: 0.2423815152918299\n",
      "Epoch 26, Train Loss: 0.7481231780036499, Val Loss: 0.15946618715922037\n",
      "Early stopping triggered at epoch 26\n"
     ]
    }
   ],
   "source": [
    "print(\"Training modified CSCO model\")\n",
    "modified_model_csco, train_losses_csco_mod, val_losses_csco_mod = train_model(modified_model_csco, train_loader_csco, val_loader_csco, criterion, modified_optimizer_csco, num_epochs)"
   ]
  },
  {
   "cell_type": "code",
   "execution_count": 68,
   "metadata": {
    "colab": {
     "base_uri": "https://localhost:8080/",
     "height": 564
    },
    "id": "qnoovWXKPiwe",
    "outputId": "c082d1d9-bbc4-47ec-c9ae-08bd5c8537cf"
   },
   "outputs": [
    {
     "data": {
      "image/png": "[encoded data removed]",
      "text/plain": [
       "<Figure size 1000x600 with 1 Axes>"
      ]
     },
     "metadata": {},
     "output_type": "display_data"
    }
   ],
   "source": [
    "plt.figure(figsize=(10, 6))\n",
    "plt.plot(train_losses_csco_mod, label='Train Loss CSCO Modified')\n",
    "plt.plot(val_losses_csco_mod, label='Val Loss CSCO Modified')\n",
    "plt.xlabel('Epoch')\n",
    "plt.ylabel('Loss')\n",
    "plt.title('Training and Validation Loss for Modified CSCO')\n",
    "plt.legend()\n",
    "plt.show()"
   ]
  },
  {
   "cell_type": "markdown",
   "metadata": {
    "id": "QLs4iS35ZGdr"
   },
   "source": [
    "- Penurunan yang Konsisten: Kedua garis menunjukkan penurunan yang konsisten, yang menunjukkan bahwa model terus belajar dan memperbaiki kinerjanya baik pada data pelatihan maupun data validasi.\n",
    "- Val Loss Rendah: Val loss yang lebih rendah daripada train loss menunjukkan bahwa model tidak hanya belajar dari data pelatihan tetapi juga generalisasi dengan sangat baik pada data validasi. Ini adalah tanda positif bahwa model bekerja dengan baik dan tidak overfitting.\n",
    "- Kinerja yang Meningkat: Dibandingkan dengan model baseline, ada peningkatan dalam kinerja model yang dimodifikasi ini, terutama dalam hal penurunan val loss yang lebih signifikan seiring bertambahnya epoch."
   ]
  },
  {
   "cell_type": "markdown",
   "metadata": {
    "id": "FmpFVNgHOCYE"
   },
   "source": [
    "## **EVALUATION**"
   ]
  },
  {
   "cell_type": "markdown",
   "metadata": {
    "id": "ZblWQintZ1i-"
   },
   "source": [
    "Untuk evaluasi, saya menggunakan 3 metriks yaitu RMSE, MSE, dan MAPE.\n",
    "\n",
    "1. RMSE (Root Mean Squared Error):\n",
    "- Mengukur akar rata-rata dari kuadrat kesalahan antara nilai yang diprediksi dan nilai sebenarnya.\n",
    "- RMSE = sqrt(mean((predicted - actual)^2))\n",
    "\n",
    "2. MAE (Mean Absolute Error):\n",
    "- Mengukur rata-rata dari nilai absolut kesalahan antara nilai yang diprediksi dan nilai sebenarnya.\n",
    "- MAE = mean(abs(predicted - actual))\n",
    "\n",
    "3. MAPE (Mean Absolute Percentage Error):\n",
    "- Mengukur rata-rata dari nilai absolut kesalahan dalam bentuk persentase antara nilai yang diprediksi dan nilai sebenarnya.\n",
    "- MAPE = mean(abs((predicted - actual) / actual)) * 100%"
   ]
  },
  {
   "cell_type": "code",
   "execution_count": 69,
   "metadata": {
    "id": "2m-qHlspK41w"
   },
   "outputs": [],
   "source": [
    "def evaluate_model(model, test_loader, criterion):\n",
    "    model.eval()\n",
    "    test_losses = []\n",
    "    all_preds = []\n",
    "    all_targets = []\n",
    "    with torch.no_grad():\n",
    "        for x_batch, y_batch in test_loader:\n",
    "            outputs = model(x_batch)\n",
    "            loss = criterion(outputs, y_batch)\n",
    "            test_losses.append(loss.item())\n",
    "            all_preds.append(outputs.numpy())\n",
    "            all_targets.append(y_batch.numpy())\n",
    "\n",
    "    test_loss = np.mean(test_losses)\n",
    "\n",
    "    all_preds = np.concatenate(all_preds)\n",
    "    all_targets = np.concatenate(all_targets)\n",
    "\n",
    "    rmse = np.sqrt(np.mean((all_preds - all_targets)**2))\n",
    "    mae = np.mean(np.abs(all_preds - all_targets))\n",
    "    mape = np.mean(np.abs((all_preds - all_targets) / all_targets)) * 100\n",
    "\n",
    "    return test_loss, rmse, mae, mape"
   ]
  },
  {
   "cell_type": "markdown",
   "metadata": {
    "id": "1etuMDUgad0b"
   },
   "source": [
    "### Baseline architecture"
   ]
  },
  {
   "cell_type": "code",
   "execution_count": 70,
   "metadata": {
    "colab": {
     "base_uri": "https://localhost:8080/"
    },
    "id": "HmyAk2ppN-xS",
    "outputId": "b2148853-b07e-40ad-d224-feafd2db2986"
   },
   "outputs": [
    {
     "name": "stdout",
     "output_type": "stream",
     "text": [
      "AMZN Baseline Evaluation\n",
      "Test Loss: 2705140.472222222\n",
      "RMSE: 1644.7310791015625\n",
      "MAE: 1633.2801513671875\n",
      "MAPE: 94.31226253509521%\n"
     ]
    }
   ],
   "source": [
    "amzn_test_loss, amzn_rmse, amzn_mae, amzn_mape = evaluate_model(baseline_model_amzn, test_loader_amzn, criterion)\n",
    "print(f'AMZN Baseline Evaluation\\nTest Loss: {amzn_test_loss}\\nRMSE: {amzn_rmse}\\nMAE: {amzn_mae}\\nMAPE: {amzn_mape}%')"
   ]
  },
  {
   "cell_type": "markdown",
   "metadata": {
    "id": "uyBUmoFQaNTx"
   },
   "source": [
    "Analisis Singkat AMZN:\n",
    "- RMSE dan MAE Tinggi: Menunjukkan bahwa prediksi model memiliki kesalahan yang cukup besar dibandingkan dengan nilai aktual.\n",
    "- MAPE Tinggi: MAPE sebesar 94.31% menunjukkan bahwa model memiliki tingkat kesalahan yang sangat tinggi dalam bentuk persentase, yang mengindikasikan model tidak melakukan prediksi yang akurat untuk harga penutupan saham AMZN."
   ]
  },
  {
   "cell_type": "code",
   "execution_count": 71,
   "metadata": {
    "colab": {
     "base_uri": "https://localhost:8080/"
    },
    "id": "KG1XY4ihOAvN",
    "outputId": "e0a436b3-6488-4939-c929-f1013aeb9e5a"
   },
   "outputs": [
    {
     "name": "stdout",
     "output_type": "stream",
     "text": [
      "CSCO Baseline Model Evaluation\n",
      "Test Loss: 2.145894080400467\n",
      "RMSE: 1.4682258367538452\n",
      "MAE: 1.1104665994644165\n",
      "MAPE: 2.439115382730961%\n"
     ]
    }
   ],
   "source": [
    "csco_test_loss, csco_rmse, csco_mae, csco_mape = evaluate_model(baseline_model_csco, test_loader_csco, criterion)\n",
    "print(f'CSCO Baseline Model Evaluation\\nTest Loss: {csco_test_loss}\\nRMSE: {csco_rmse}\\nMAE: {csco_mae}\\nMAPE: {csco_mape}%')"
   ]
  },
  {
   "cell_type": "markdown",
   "metadata": {
    "id": "V6Rj1JiPaSx0"
   },
   "source": [
    "Analisis Singkat CSCO:\n",
    "- RMSE dan MAE Lebih Rendah: Menunjukkan bahwa prediksi model lebih akurat dibandingkan dengan hasil AMZN, tetapi masih ada kesalahan yang cukup signifikan.\n",
    "- MAPE Rendah: MAPE sebesar 2.44% menunjukkan bahwa model memiliki tingkat kesalahan yang lebih rendah dalam bentuk persentase, mengindikasikan model melakukan prediksi yang lebih akurat untuk harga penutupan saham CSCO dibandingkan AMZN."
   ]
  },
  {
   "cell_type": "markdown",
   "metadata": {
    "id": "GoarHziOaZcq"
   },
   "source": [
    "1. AMZN: Baseline model menunjukkan performa yang buruk dengan RMSE, MAE, dan MAPE yang sangat tinggi, mengindikasikan model tidak cocok untuk memprediksi harga penutupan saham AMZN.\n",
    "2. CSCO: Baseline model menunjukkan performa yang lebih baik dibandingkan dengan AMZN, dengan RMSE, MAE, dan MAPE yang lebih rendah, tetapi masih ada ruang untuk perbaikan dalam prediksi."
   ]
  },
  {
   "cell_type": "markdown",
   "metadata": {
    "id": "izQy6Yimahqc"
   },
   "source": [
    "### Modified architecture"
   ]
  },
  {
   "cell_type": "code",
   "execution_count": 74,
   "metadata": {
    "colab": {
     "base_uri": "https://localhost:8080/"
    },
    "id": "vcyeglNDQRPG",
    "outputId": "c13b395e-86ec-44ae-8727-da5619c1502a"
   },
   "outputs": [
    {
     "name": "stdout",
     "output_type": "stream",
     "text": [
      "AMZN Modifief Model Evaluation\n",
      "Test Loss: 2184444.597222222\n",
      "RMSE: 1477.9866943359375\n",
      "MAE: 1465.2332763671875\n",
      "MAPE: 84.46296453475952%\n"
     ]
    }
   ],
   "source": [
    "amzn_test_loss_mod, amzn_rmse_mod, amzn_mae_mod, amzn_mape_mod = evaluate_model(modified_model_amzn, test_loader_amzn, criterion)\n",
    "print(f'AMZN Modifief Model Evaluation\\nTest Loss: {amzn_test_loss_mod}\\nRMSE: {amzn_rmse_mod}\\nMAE: {amzn_mae_mod}\\nMAPE: {amzn_mape_mod}%')"
   ]
  },
  {
   "cell_type": "markdown",
   "metadata": {
    "id": "pgY20d6LarKm"
   },
   "source": [
    "Analisis Singkat AMZN:\n",
    "- Penurunan RMSE dan MAE: Modifikasi arsitektur berhasil mengurangi kesalahan prediksi dibandingkan dengan model baseline.\n",
    "- Penurunan MAPE: MAPE sebesar 84.46% menunjukkan peningkatan akurasi dalam bentuk persentase, tetapi masih tinggi, mengindikasikan bahwa prediksi model masih memiliki tingkat kesalahan yang signifikan.\n",
    "- Kesimpulan: Modifikasi arsitektur memberikan perbaikan yang signifikan pada performa model AMZN, meskipun prediksi masih jauh dari akurat."
   ]
  },
  {
   "cell_type": "code",
   "execution_count": 73,
   "metadata": {
    "colab": {
     "base_uri": "https://localhost:8080/"
    },
    "id": "SuinqsXvOI2R",
    "outputId": "83fc1d27-4ad8-4288-adf2-b3467222b0f6"
   },
   "outputs": [
    {
     "name": "stdout",
     "output_type": "stream",
     "text": [
      "CSCO Modifief Model Evaluation\n",
      "Test Loss: 0.9280179490645727\n",
      "RMSE: 0.9646240472793579\n",
      "MAE: 0.6589531898498535\n",
      "MAPE: 1.4731325209140778%\n"
     ]
    }
   ],
   "source": [
    "csco_test_loss_mod, csco_rmse_mod, csco_mae_mod, csco_mape_mod = evaluate_model(modified_model_csco, test_loader_csco, criterion)\n",
    "print(f'CSCO Modifief Model Evaluation\\nTest Loss: {csco_test_loss_mod}\\nRMSE: {csco_rmse_mod}\\nMAE: {csco_mae_mod}\\nMAPE: {csco_mape_mod}%')"
   ]
  },
  {
   "cell_type": "markdown",
   "metadata": {
    "id": "muaJMg6Mar2w"
   },
   "source": [
    "- Penurunan RMSE dan MAE: Menunjukkan bahwa modifikasi arsitektur berhasil mengurangi kesalahan prediksi dibandingkan dengan baseline.\n",
    "- Penurunan MAPE: MAPE sebesar 1.47% menunjukkan peningkatan akurasi dalam bentuk persentase, mengindikasikan model yang lebih baik dalam memprediksi harga penutupan saham CSCO.\n",
    "- Kesimpulan: Modifikasi arsitektur memberikan perbaikan yang signifikan pada performa model CSCO, menghasilkan prediksi yang lebih akurat dibandingkan dengan model baseline."
   ]
  },
  {
   "cell_type": "markdown",
   "metadata": {
    "id": "HgNLjIs7a-ua"
   },
   "source": [
    "## **KESIMPULAN**"
   ]
  },
  {
   "cell_type": "markdown",
   "metadata": {
    "id": "ow15RBKwbBuI"
   },
   "source": [
    "### AMZN:\n",
    "Baik model baseline maupun model yang dimodifikasi menunjukkan performa yang buruk dengan RMSE, MAE, dan MAPE yang sangat tinggi.\n",
    "\n",
    "Modifikasi tidak memberikan perbaikan yang signifikan.\n",
    "\n",
    "Perlunya eksplorasi lebih lanjut dan tuning tambahan untuk meningkatkan kinerja model."
   ]
  },
  {
   "cell_type": "markdown",
   "metadata": {
    "id": "G3yjzrfYbPR0"
   },
   "source": [
    "### CSCO:\n",
    "Model yang dimodifikasi menunjukkan peningkatan yang signifikan dibandingkan dengan model baseline.\n",
    "\n",
    "Penurunan yang signifikan pada RMSE, MAE, dan MAPE menunjukkan bahwa modifikasi arsitektur dan hyperparameter berhasil meningkatkan akurasi prediksi.\n",
    "\n",
    "Modifikasi memberikan hasil yang lebih baik dalam menangkap pola data dan melakukan prediksi yang lebih akurat."
   ]
  },
  {
   "cell_type": "markdown",
   "metadata": {
    "id": "PCGC0wnZbn5v"
   },
   "source": [
    "### Analisa penyebab\n",
    "\n",
    "1. Volatilitas Data:\n",
    "- AMZN: Data harga penutupan saham AMZN menunjukkan peningkatan yang sangat drastis, terutama setelah tahun 2010. Ini menyebabkan fluktuasi yang besar dan mungkin membuat model sulit untuk menangkap pola dengan baik.\n",
    "- CSCO: Data harga penutupan saham CSCO lebih stabil dengan fluktuasi yang lebih konsisten sepanjang waktu, membuat model lebih mudah untuk memprediksi pola dalam data.\n",
    "\n",
    "2. Range Data:\n",
    "- AMZN: Rentang harga penutupan sangat lebar, mulai dari nilai yang sangat rendah hingga sangat tinggi, yang dapat memperumit proses pelatihan model. Model mungkin kesulitan menyesuaikan prediksi pada berbagai skala harga.\n",
    "- CSCO: Rentang harga penutupan lebih sempit dan konsisten, memberikan model ruang lingkup yang lebih jelas untuk belajar dan memprediksi dengan lebih akurat.\n",
    "\n",
    "3. Distribusi Data:\n",
    "- AMZN: Peningkatan drastis dalam harga saham dapat menyebabkan distribusi data yang sangat miring, mengakibatkan model kesulitan dalam menangkap tren yang stabil.\n",
    "- CSCO: Distribusi data lebih merata, membantu model dalam menangkap pola dengan lebih baik dan menghasilkan prediksi yang lebih akurat."
   ]
  },
  {
   "cell_type": "code",
   "execution_count": 73,
   "metadata": {
    "id": "FVNRZwYLFgJK"
   },
   "outputs": [],
   "source": []
  }
 ],
 "metadata": {
  "colab": {
   "provenance": []
  },
  "kernelspec": {
   "display_name": "Python 3 (ipykernel)",
   "language": "python",
   "name": "python3"
  },
  "language_info": {
   "codemirror_mode": {
    "name": "ipython",
    "version": 3
   },
   "file_extension": ".py",
   "mimetype": "text/x-python",
   "name": "python",
   "nbconvert_exporter": "python",
   "pygments_lexer": "ipython3",
   "version": "3.9.12"
  }
 },
 "nbformat": 4,
 "nbformat_minor": 1
}
